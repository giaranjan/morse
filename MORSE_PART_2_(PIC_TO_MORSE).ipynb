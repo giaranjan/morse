{
  "nbformat": 4,
  "nbformat_minor": 0,
  "metadata": {
    "colab": {
      "provenance": [],
      "gpuType": "T4",
      "authorship_tag": "ABX9TyO5+t8/SvvvqZvNyiLnRXIH",
      "include_colab_link": true
    },
    "kernelspec": {
      "name": "python3",
      "display_name": "Python 3"
    },
    "language_info": {
      "name": "python"
    },
    "accelerator": "GPU",
    "widgets": {
      "application/vnd.jupyter.widget-state+json": {
        "0358d534be314f6688e7434251ddfeb9": {
          "model_module": "@jupyter-widgets/controls",
          "model_name": "FileUploadModel",
          "model_module_version": "1.5.0",
          "state": {
            "_counter": 1,
            "_dom_classes": [],
            "_model_module": "@jupyter-widgets/controls",
            "_model_module_version": "1.5.0",
            "_model_name": "FileUploadModel",
            "_view_count": null,
            "_view_module": "@jupyter-widgets/controls",
            "_view_module_version": "1.5.0",
            "_view_name": "FileUploadView",
            "accept": "image/*",
            "button_style": "",
            "data": [
              null
            ],
            "description": "Upload",
            "description_tooltip": null,
            "disabled": false,
            "error": "",
            "icon": "upload",
            "layout": "IPY_MODEL_3eba0af777e94209acd6c87643a958a1",
            "metadata": [
              {
                "name": "Screenshot 2023-09-05 at 21.55.04.png",
                "type": "image/png",
                "size": 13650,
                "lastModified": 1693931109859
              }
            ],
            "multiple": false,
            "style": "IPY_MODEL_7f3534d7d133400ea2c76bad216a6a86"
          }
        },
        "3eba0af777e94209acd6c87643a958a1": {
          "model_module": "@jupyter-widgets/base",
          "model_name": "LayoutModel",
          "model_module_version": "1.2.0",
          "state": {
            "_model_module": "@jupyter-widgets/base",
            "_model_module_version": "1.2.0",
            "_model_name": "LayoutModel",
            "_view_count": null,
            "_view_module": "@jupyter-widgets/base",
            "_view_module_version": "1.2.0",
            "_view_name": "LayoutView",
            "align_content": null,
            "align_items": null,
            "align_self": null,
            "border": null,
            "bottom": null,
            "display": null,
            "flex": null,
            "flex_flow": null,
            "grid_area": null,
            "grid_auto_columns": null,
            "grid_auto_flow": null,
            "grid_auto_rows": null,
            "grid_column": null,
            "grid_gap": null,
            "grid_row": null,
            "grid_template_areas": null,
            "grid_template_columns": null,
            "grid_template_rows": null,
            "height": null,
            "justify_content": null,
            "justify_items": null,
            "left": null,
            "margin": null,
            "max_height": null,
            "max_width": null,
            "min_height": null,
            "min_width": null,
            "object_fit": null,
            "object_position": null,
            "order": null,
            "overflow": null,
            "overflow_x": null,
            "overflow_y": null,
            "padding": null,
            "right": null,
            "top": null,
            "visibility": null,
            "width": null
          }
        },
        "7f3534d7d133400ea2c76bad216a6a86": {
          "model_module": "@jupyter-widgets/controls",
          "model_name": "ButtonStyleModel",
          "model_module_version": "1.5.0",
          "state": {
            "_model_module": "@jupyter-widgets/controls",
            "_model_module_version": "1.5.0",
            "_model_name": "ButtonStyleModel",
            "_view_count": null,
            "_view_module": "@jupyter-widgets/base",
            "_view_module_version": "1.2.0",
            "_view_name": "StyleView",
            "button_color": null,
            "font_weight": ""
          }
        },
        "f8afef31892a423088015b4974ee8cd0": {
          "model_module": "@jupyter-widgets/controls",
          "model_name": "RadioButtonsModel",
          "model_module_version": "1.5.0",
          "state": {
            "_dom_classes": [],
            "_model_module": "@jupyter-widgets/controls",
            "_model_module_version": "1.5.0",
            "_model_name": "RadioButtonsModel",
            "_options_labels": [
              "pytesseract",
              "easyocr",
              "keras_ocr"
            ],
            "_view_count": null,
            "_view_module": "@jupyter-widgets/controls",
            "_view_module_version": "1.5.0",
            "_view_name": "RadioButtonsView",
            "description": "Choose OCR:",
            "description_tooltip": null,
            "disabled": false,
            "index": 2,
            "layout": "IPY_MODEL_d4c788c8b4c743228e3531834883ed07",
            "style": "IPY_MODEL_ac9b1e4ba95f4ac392fcf2d62bb48078"
          }
        },
        "d4c788c8b4c743228e3531834883ed07": {
          "model_module": "@jupyter-widgets/base",
          "model_name": "LayoutModel",
          "model_module_version": "1.2.0",
          "state": {
            "_model_module": "@jupyter-widgets/base",
            "_model_module_version": "1.2.0",
            "_model_name": "LayoutModel",
            "_view_count": null,
            "_view_module": "@jupyter-widgets/base",
            "_view_module_version": "1.2.0",
            "_view_name": "LayoutView",
            "align_content": null,
            "align_items": null,
            "align_self": null,
            "border": null,
            "bottom": null,
            "display": null,
            "flex": null,
            "flex_flow": null,
            "grid_area": null,
            "grid_auto_columns": null,
            "grid_auto_flow": null,
            "grid_auto_rows": null,
            "grid_column": null,
            "grid_gap": null,
            "grid_row": null,
            "grid_template_areas": null,
            "grid_template_columns": null,
            "grid_template_rows": null,
            "height": null,
            "justify_content": null,
            "justify_items": null,
            "left": null,
            "margin": null,
            "max_height": null,
            "max_width": null,
            "min_height": null,
            "min_width": null,
            "object_fit": null,
            "object_position": null,
            "order": null,
            "overflow": null,
            "overflow_x": null,
            "overflow_y": null,
            "padding": null,
            "right": null,
            "top": null,
            "visibility": null,
            "width": null
          }
        },
        "ac9b1e4ba95f4ac392fcf2d62bb48078": {
          "model_module": "@jupyter-widgets/controls",
          "model_name": "DescriptionStyleModel",
          "model_module_version": "1.5.0",
          "state": {
            "_model_module": "@jupyter-widgets/controls",
            "_model_module_version": "1.5.0",
            "_model_name": "DescriptionStyleModel",
            "_view_count": null,
            "_view_module": "@jupyter-widgets/base",
            "_view_module_version": "1.2.0",
            "_view_name": "StyleView",
            "description_width": ""
          }
        },
        "f15115fd10034f1b9e409f76cea2b722": {
          "model_module": "@jupyter-widgets/controls",
          "model_name": "ButtonModel",
          "model_module_version": "1.5.0",
          "state": {
            "_dom_classes": [],
            "_model_module": "@jupyter-widgets/controls",
            "_model_module_version": "1.5.0",
            "_model_name": "ButtonModel",
            "_view_count": null,
            "_view_module": "@jupyter-widgets/controls",
            "_view_module_version": "1.5.0",
            "_view_name": "ButtonView",
            "button_style": "",
            "description": "Submit",
            "disabled": false,
            "icon": "",
            "layout": "IPY_MODEL_606cd0d7887c40ccb35e05e5225ead9b",
            "style": "IPY_MODEL_a050744498464f8ea45afa568e233930",
            "tooltip": ""
          }
        },
        "606cd0d7887c40ccb35e05e5225ead9b": {
          "model_module": "@jupyter-widgets/base",
          "model_name": "LayoutModel",
          "model_module_version": "1.2.0",
          "state": {
            "_model_module": "@jupyter-widgets/base",
            "_model_module_version": "1.2.0",
            "_model_name": "LayoutModel",
            "_view_count": null,
            "_view_module": "@jupyter-widgets/base",
            "_view_module_version": "1.2.0",
            "_view_name": "LayoutView",
            "align_content": null,
            "align_items": null,
            "align_self": null,
            "border": null,
            "bottom": null,
            "display": null,
            "flex": null,
            "flex_flow": null,
            "grid_area": null,
            "grid_auto_columns": null,
            "grid_auto_flow": null,
            "grid_auto_rows": null,
            "grid_column": null,
            "grid_gap": null,
            "grid_row": null,
            "grid_template_areas": null,
            "grid_template_columns": null,
            "grid_template_rows": null,
            "height": null,
            "justify_content": null,
            "justify_items": null,
            "left": null,
            "margin": null,
            "max_height": null,
            "max_width": null,
            "min_height": null,
            "min_width": null,
            "object_fit": null,
            "object_position": null,
            "order": null,
            "overflow": null,
            "overflow_x": null,
            "overflow_y": null,
            "padding": null,
            "right": null,
            "top": null,
            "visibility": null,
            "width": null
          }
        },
        "a050744498464f8ea45afa568e233930": {
          "model_module": "@jupyter-widgets/controls",
          "model_name": "ButtonStyleModel",
          "model_module_version": "1.5.0",
          "state": {
            "_model_module": "@jupyter-widgets/controls",
            "_model_module_version": "1.5.0",
            "_model_name": "ButtonStyleModel",
            "_view_count": null,
            "_view_module": "@jupyter-widgets/base",
            "_view_module_version": "1.2.0",
            "_view_name": "StyleView",
            "button_color": null,
            "font_weight": ""
          }
        },
        "b47fbdafc21d4346997698b77274c89d": {
          "model_module": "@jupyter-widgets/controls",
          "model_name": "RadioButtonsModel",
          "model_module_version": "1.5.0",
          "state": {
            "_dom_classes": [],
            "_model_module": "@jupyter-widgets/controls",
            "_model_module_version": "1.5.0",
            "_model_name": "RadioButtonsModel",
            "_options_labels": [
              "Yes",
              "No"
            ],
            "_view_count": null,
            "_view_module": "@jupyter-widgets/controls",
            "_view_module_version": "1.5.0",
            "_view_name": "RadioButtonsView",
            "description": "Satisfied with the extraction?",
            "description_tooltip": null,
            "disabled": false,
            "index": 1,
            "layout": "IPY_MODEL_65fcce78f8be4c3d8f9ab9697d93b996",
            "style": "IPY_MODEL_008dbcfa95c24448b7f74a4d99cc8797"
          }
        },
        "65fcce78f8be4c3d8f9ab9697d93b996": {
          "model_module": "@jupyter-widgets/base",
          "model_name": "LayoutModel",
          "model_module_version": "1.2.0",
          "state": {
            "_model_module": "@jupyter-widgets/base",
            "_model_module_version": "1.2.0",
            "_model_name": "LayoutModel",
            "_view_count": null,
            "_view_module": "@jupyter-widgets/base",
            "_view_module_version": "1.2.0",
            "_view_name": "LayoutView",
            "align_content": null,
            "align_items": null,
            "align_self": null,
            "border": null,
            "bottom": null,
            "display": null,
            "flex": null,
            "flex_flow": null,
            "grid_area": null,
            "grid_auto_columns": null,
            "grid_auto_flow": null,
            "grid_auto_rows": null,
            "grid_column": null,
            "grid_gap": null,
            "grid_row": null,
            "grid_template_areas": null,
            "grid_template_columns": null,
            "grid_template_rows": null,
            "height": null,
            "justify_content": null,
            "justify_items": null,
            "left": null,
            "margin": null,
            "max_height": null,
            "max_width": null,
            "min_height": null,
            "min_width": null,
            "object_fit": null,
            "object_position": null,
            "order": null,
            "overflow": null,
            "overflow_x": null,
            "overflow_y": null,
            "padding": null,
            "right": null,
            "top": null,
            "visibility": null,
            "width": null
          }
        },
        "008dbcfa95c24448b7f74a4d99cc8797": {
          "model_module": "@jupyter-widgets/controls",
          "model_name": "DescriptionStyleModel",
          "model_module_version": "1.5.0",
          "state": {
            "_model_module": "@jupyter-widgets/controls",
            "_model_module_version": "1.5.0",
            "_model_name": "DescriptionStyleModel",
            "_view_count": null,
            "_view_module": "@jupyter-widgets/base",
            "_view_module_version": "1.2.0",
            "_view_name": "StyleView",
            "description_width": ""
          }
        },
        "e577bb2e064b4283afd18407bfa1128c": {
          "model_module": "@jupyter-widgets/controls",
          "model_name": "ButtonModel",
          "model_module_version": "1.5.0",
          "state": {
            "_dom_classes": [],
            "_model_module": "@jupyter-widgets/controls",
            "_model_module_version": "1.5.0",
            "_model_name": "ButtonModel",
            "_view_count": null,
            "_view_module": "@jupyter-widgets/controls",
            "_view_module_version": "1.5.0",
            "_view_name": "ButtonView",
            "button_style": "success",
            "description": "Submit",
            "disabled": false,
            "icon": "",
            "layout": "IPY_MODEL_9c7978b2f11b4113a6d0aff025bcf17e",
            "style": "IPY_MODEL_246610aafaea4915b97e0999c85bc10c",
            "tooltip": ""
          }
        },
        "9c7978b2f11b4113a6d0aff025bcf17e": {
          "model_module": "@jupyter-widgets/base",
          "model_name": "LayoutModel",
          "model_module_version": "1.2.0",
          "state": {
            "_model_module": "@jupyter-widgets/base",
            "_model_module_version": "1.2.0",
            "_model_name": "LayoutModel",
            "_view_count": null,
            "_view_module": "@jupyter-widgets/base",
            "_view_module_version": "1.2.0",
            "_view_name": "LayoutView",
            "align_content": null,
            "align_items": null,
            "align_self": null,
            "border": null,
            "bottom": null,
            "display": null,
            "flex": null,
            "flex_flow": null,
            "grid_area": null,
            "grid_auto_columns": null,
            "grid_auto_flow": null,
            "grid_auto_rows": null,
            "grid_column": null,
            "grid_gap": null,
            "grid_row": null,
            "grid_template_areas": null,
            "grid_template_columns": null,
            "grid_template_rows": null,
            "height": null,
            "justify_content": null,
            "justify_items": null,
            "left": null,
            "margin": null,
            "max_height": null,
            "max_width": null,
            "min_height": null,
            "min_width": null,
            "object_fit": null,
            "object_position": null,
            "order": null,
            "overflow": null,
            "overflow_x": null,
            "overflow_y": null,
            "padding": null,
            "right": null,
            "top": null,
            "visibility": null,
            "width": null
          }
        },
        "246610aafaea4915b97e0999c85bc10c": {
          "model_module": "@jupyter-widgets/controls",
          "model_name": "ButtonStyleModel",
          "model_module_version": "1.5.0",
          "state": {
            "_model_module": "@jupyter-widgets/controls",
            "_model_module_version": "1.5.0",
            "_model_name": "ButtonStyleModel",
            "_view_count": null,
            "_view_module": "@jupyter-widgets/base",
            "_view_module_version": "1.2.0",
            "_view_name": "StyleView",
            "button_color": null,
            "font_weight": ""
          }
        },
        "1216af9d56f14a25a83d77c79d7016e3": {
          "model_module": "@jupyter-widgets/controls",
          "model_name": "TextareaModel",
          "model_module_version": "1.5.0",
          "state": {
            "_dom_classes": [],
            "_model_module": "@jupyter-widgets/controls",
            "_model_module_version": "1.5.0",
            "_model_name": "TextareaModel",
            "_view_count": null,
            "_view_module": "@jupyter-widgets/controls",
            "_view_module_version": "1.5.0",
            "_view_name": "TextareaView",
            "continuous_update": true,
            "description": "",
            "description_tooltip": null,
            "disabled": false,
            "layout": "IPY_MODEL_d5ca2000aece46d4af63645ee7dee262",
            "placeholder": "Edit the extracted text here",
            "rows": null,
            "style": "IPY_MODEL_7c93365e9eed40f9bb8b1a82d6de7ded",
            "value": "JIE ZHANG ICSE FSE ASE"
          }
        },
        "d5ca2000aece46d4af63645ee7dee262": {
          "model_module": "@jupyter-widgets/base",
          "model_name": "LayoutModel",
          "model_module_version": "1.2.0",
          "state": {
            "_model_module": "@jupyter-widgets/base",
            "_model_module_version": "1.2.0",
            "_model_name": "LayoutModel",
            "_view_count": null,
            "_view_module": "@jupyter-widgets/base",
            "_view_module_version": "1.2.0",
            "_view_name": "LayoutView",
            "align_content": null,
            "align_items": null,
            "align_self": null,
            "border": null,
            "bottom": null,
            "display": null,
            "flex": null,
            "flex_flow": null,
            "grid_area": null,
            "grid_auto_columns": null,
            "grid_auto_flow": null,
            "grid_auto_rows": null,
            "grid_column": null,
            "grid_gap": null,
            "grid_row": null,
            "grid_template_areas": null,
            "grid_template_columns": null,
            "grid_template_rows": null,
            "height": null,
            "justify_content": null,
            "justify_items": null,
            "left": null,
            "margin": null,
            "max_height": null,
            "max_width": null,
            "min_height": null,
            "min_width": null,
            "object_fit": null,
            "object_position": null,
            "order": null,
            "overflow": null,
            "overflow_x": null,
            "overflow_y": null,
            "padding": null,
            "right": null,
            "top": null,
            "visibility": null,
            "width": null
          }
        },
        "7c93365e9eed40f9bb8b1a82d6de7ded": {
          "model_module": "@jupyter-widgets/controls",
          "model_name": "DescriptionStyleModel",
          "model_module_version": "1.5.0",
          "state": {
            "_model_module": "@jupyter-widgets/controls",
            "_model_module_version": "1.5.0",
            "_model_name": "DescriptionStyleModel",
            "_view_count": null,
            "_view_module": "@jupyter-widgets/base",
            "_view_module_version": "1.2.0",
            "_view_name": "StyleView",
            "description_width": ""
          }
        },
        "7d1f76d16b8c4193b671e4ab5c5e5688": {
          "model_module": "@jupyter-widgets/controls",
          "model_name": "ButtonModel",
          "model_module_version": "1.5.0",
          "state": {
            "_dom_classes": [],
            "_model_module": "@jupyter-widgets/controls",
            "_model_module_version": "1.5.0",
            "_model_name": "ButtonModel",
            "_view_count": null,
            "_view_module": "@jupyter-widgets/controls",
            "_view_module_version": "1.5.0",
            "_view_name": "ButtonView",
            "button_style": "info",
            "description": "I am all done",
            "disabled": false,
            "icon": "",
            "layout": "IPY_MODEL_9932dccc4532458b8e78ca03d46b7874",
            "style": "IPY_MODEL_ec5c075cede54e7897a4fd5e55105bd0",
            "tooltip": ""
          }
        },
        "9932dccc4532458b8e78ca03d46b7874": {
          "model_module": "@jupyter-widgets/base",
          "model_name": "LayoutModel",
          "model_module_version": "1.2.0",
          "state": {
            "_model_module": "@jupyter-widgets/base",
            "_model_module_version": "1.2.0",
            "_model_name": "LayoutModel",
            "_view_count": null,
            "_view_module": "@jupyter-widgets/base",
            "_view_module_version": "1.2.0",
            "_view_name": "LayoutView",
            "align_content": null,
            "align_items": null,
            "align_self": null,
            "border": null,
            "bottom": null,
            "display": null,
            "flex": null,
            "flex_flow": null,
            "grid_area": null,
            "grid_auto_columns": null,
            "grid_auto_flow": null,
            "grid_auto_rows": null,
            "grid_column": null,
            "grid_gap": null,
            "grid_row": null,
            "grid_template_areas": null,
            "grid_template_columns": null,
            "grid_template_rows": null,
            "height": null,
            "justify_content": null,
            "justify_items": null,
            "left": null,
            "margin": null,
            "max_height": null,
            "max_width": null,
            "min_height": null,
            "min_width": null,
            "object_fit": null,
            "object_position": null,
            "order": null,
            "overflow": null,
            "overflow_x": null,
            "overflow_y": null,
            "padding": null,
            "right": null,
            "top": null,
            "visibility": null,
            "width": null
          }
        },
        "ec5c075cede54e7897a4fd5e55105bd0": {
          "model_module": "@jupyter-widgets/controls",
          "model_name": "ButtonStyleModel",
          "model_module_version": "1.5.0",
          "state": {
            "_model_module": "@jupyter-widgets/controls",
            "_model_module_version": "1.5.0",
            "_model_name": "ButtonStyleModel",
            "_view_count": null,
            "_view_module": "@jupyter-widgets/base",
            "_view_module_version": "1.2.0",
            "_view_name": "StyleView",
            "button_color": null,
            "font_weight": ""
          }
        }
      }
    }
  },
  "cells": [
    {
      "cell_type": "markdown",
      "metadata": {
        "id": "view-in-github",
        "colab_type": "text"
      },
      "source": [
        "<a href=\"https://colab.research.google.com/github/giaranjan/morse/blob/main/MORSE_PART_2_(PIC_TO_MORSE).ipynb\" target=\"_parent\"><img src=\"https://colab.research.google.com/assets/colab-badge.svg\" alt=\"Open In Colab\"/></a>"
      ]
    },
    {
      "cell_type": "markdown",
      "source": [
        "# MORSE CONVERTER WITH PICTURE INPUT\n",
        "\n",
        "### User inputs an image and this code extracts text from the image and then converts it to morse and then displays the output morse as either text or audio.\n",
        "\n",
        "### **Part of my larger cross modal morse converter project.**"
      ],
      "metadata": {
        "id": "WNe6fIUupcP-"
      }
    },
    {
      "cell_type": "markdown",
      "source": [
        "Some Resources:\n",
        "\n",
        "My own Github\n",
        "\n",
        "https://nanonets.com/blog/deep-learning-ocr/\n",
        "\n",
        "https://medium.com/artificialis/how-to-extract-text-from-any-image-with-deep-learning-e834d5a9863e\n",
        "\n",
        "https://medium.com/artificialis/hydra-ai-accurately-extract-text-from-any-image-6dfc8abd710a\n",
        "\n",
        "https://www.analyticsvidhya.com/blog/2022/09/extract-text-from-images-quickly-using-keras-ocr-pipeline/\n",
        "\n",
        "https://www.hackersrealm.net/post/image-to-text-conversion-extraction-using-python\n",
        "\n",
        "https://towardsdatascience.com/image-to-text-ocr-with-tesseract-js-3540b420e0e7\n",
        "\n",
        "https://towardsdatascience.com/extract-text-from-image-using-python-8e8cfbbce743\n",
        "\n",
        "https://neptune.ai/blog/15-computer-visions-projects\n",
        "\n",
        "https://www.youtube.com/watch?v=ZVKaWPW9oQY"
      ],
      "metadata": {
        "id": "k6-nrbdFsSM6"
      }
    },
    {
      "cell_type": "markdown",
      "source": [
        "## Step 1: EXTRACTING TEXT FROM PICTURE"
      ],
      "metadata": {
        "id": "E7wTbASRrh5M"
      }
    },
    {
      "cell_type": "code",
      "source": [
        "# 1. Input a pictyre using ipywidgets\n",
        "# 2. Perform OCR text extraction using 3 methods\n",
        "# 3. Display the extracted text and annotated image as output for all 3 methods\n",
        "# 4. Ask for user's choice on which method they want to proceed with\n",
        "# 5. Display the annotated image and extracted text of the chosen method\n",
        "# 6. Ask the user if they are satisfied with the extracted text:\n",
        "#    6a. If they say yes and click submit the nothing changes and the extracted text remains same\n",
        "#    6b. If they say no and click submit, they will get a text box where they can edit the extracted\n",
        "#    text and then press 'i am all done' when they are ready to go. The editted version is now the\n",
        "#    extracted text that will be used for the rest of the code.\n",
        "# 7. Display the final text that will now be used for the rest of the code\n",
        "\n",
        "# 8. Morse begins from Part 1"
      ],
      "metadata": {
        "id": "dYYH6jLD0paK"
      },
      "execution_count": null,
      "outputs": []
    },
    {
      "cell_type": "code",
      "source": [
        "# Next Step:\n",
        "# 1. adjust the loop so it can accept another input if someone responds yes to - would you like to convert more."
      ],
      "metadata": {
        "id": "kIf7qZYU6RXo"
      },
      "execution_count": null,
      "outputs": []
    },
    {
      "cell_type": "code",
      "execution_count": null,
      "metadata": {
        "colab": {
          "base_uri": "https://localhost:8080/"
        },
        "id": "jzTPtUJWgoAE",
        "outputId": "49b737ce-3f44-46d1-938b-985d47a8bce2"
      },
      "outputs": [
        {
          "output_type": "stream",
          "name": "stdout",
          "text": [
            "Reading package lists... Done\n",
            "Building dependency tree... Done\n",
            "Reading state information... Done\n",
            "The following additional packages will be installed:\n",
            "  tesseract-ocr-eng tesseract-ocr-osd\n",
            "The following NEW packages will be installed:\n",
            "  tesseract-ocr tesseract-ocr-eng tesseract-ocr-osd\n",
            "0 upgraded, 3 newly installed, 0 to remove and 19 not upgraded.\n",
            "Need to get 4,816 kB of archives.\n",
            "After this operation, 15.6 MB of additional disk space will be used.\n",
            "Get:1 http://archive.ubuntu.com/ubuntu jammy/universe amd64 tesseract-ocr-eng all 1:4.00~git30-7274cfa-1.1 [1,591 kB]\n",
            "Get:2 http://archive.ubuntu.com/ubuntu jammy/universe amd64 tesseract-ocr-osd all 1:4.00~git30-7274cfa-1.1 [2,990 kB]\n",
            "Get:3 http://archive.ubuntu.com/ubuntu jammy/universe amd64 tesseract-ocr amd64 4.1.1-2.1build1 [236 kB]\n",
            "Fetched 4,816 kB in 2s (2,152 kB/s)\n",
            "Selecting previously unselected package tesseract-ocr-eng.\n",
            "(Reading database ... 120874 files and directories currently installed.)\n",
            "Preparing to unpack .../tesseract-ocr-eng_1%3a4.00~git30-7274cfa-1.1_all.deb ...\n",
            "Unpacking tesseract-ocr-eng (1:4.00~git30-7274cfa-1.1) ...\n",
            "Selecting previously unselected package tesseract-ocr-osd.\n",
            "Preparing to unpack .../tesseract-ocr-osd_1%3a4.00~git30-7274cfa-1.1_all.deb ...\n",
            "Unpacking tesseract-ocr-osd (1:4.00~git30-7274cfa-1.1) ...\n",
            "Selecting previously unselected package tesseract-ocr.\n",
            "Preparing to unpack .../tesseract-ocr_4.1.1-2.1build1_amd64.deb ...\n",
            "Unpacking tesseract-ocr (4.1.1-2.1build1) ...\n",
            "Setting up tesseract-ocr-eng (1:4.00~git30-7274cfa-1.1) ...\n",
            "Setting up tesseract-ocr-osd (1:4.00~git30-7274cfa-1.1) ...\n",
            "Setting up tesseract-ocr (4.1.1-2.1build1) ...\n",
            "Processing triggers for man-db (2.10.2-1) ...\n",
            "Collecting pytesseract\n",
            "  Downloading pytesseract-0.3.10-py3-none-any.whl (14 kB)\n",
            "Requirement already satisfied: packaging>=21.3 in /usr/local/lib/python3.10/dist-packages (from pytesseract) (23.2)\n",
            "Requirement already satisfied: Pillow>=8.0.0 in /usr/local/lib/python3.10/dist-packages (from pytesseract) (9.4.0)\n",
            "Installing collected packages: pytesseract\n",
            "Successfully installed pytesseract-0.3.10\n",
            "Requirement already satisfied: pillow in /usr/local/lib/python3.10/dist-packages (9.4.0)\n",
            "Collecting easyocr\n",
            "  Downloading easyocr-1.7.1-py3-none-any.whl (2.9 MB)\n",
            "\u001b[2K     \u001b[90m━━━━━━━━━━━━━━━━━━━━━━━━━━━━━━━━━━━━━━━━\u001b[0m \u001b[32m2.9/2.9 MB\u001b[0m \u001b[31m39.0 MB/s\u001b[0m eta \u001b[36m0:00:00\u001b[0m\n",
            "\u001b[?25hRequirement already satisfied: torch in /usr/local/lib/python3.10/dist-packages (from easyocr) (2.1.0+cu118)\n",
            "Requirement already satisfied: torchvision>=0.5 in /usr/local/lib/python3.10/dist-packages (from easyocr) (0.16.0+cu118)\n",
            "Requirement already satisfied: opencv-python-headless in /usr/local/lib/python3.10/dist-packages (from easyocr) (4.8.1.78)\n",
            "Requirement already satisfied: scipy in /usr/local/lib/python3.10/dist-packages (from easyocr) (1.11.3)\n",
            "Requirement already satisfied: numpy in /usr/local/lib/python3.10/dist-packages (from easyocr) (1.23.5)\n",
            "Requirement already satisfied: Pillow in /usr/local/lib/python3.10/dist-packages (from easyocr) (9.4.0)\n",
            "Requirement already satisfied: scikit-image in /usr/local/lib/python3.10/dist-packages (from easyocr) (0.19.3)\n",
            "Collecting python-bidi (from easyocr)\n",
            "  Downloading python_bidi-0.4.2-py2.py3-none-any.whl (30 kB)\n",
            "Requirement already satisfied: PyYAML in /usr/local/lib/python3.10/dist-packages (from easyocr) (6.0.1)\n",
            "Requirement already satisfied: Shapely in /usr/local/lib/python3.10/dist-packages (from easyocr) (2.0.2)\n",
            "Collecting pyclipper (from easyocr)\n",
            "  Downloading pyclipper-1.3.0.post5-cp310-cp310-manylinux_2_12_x86_64.manylinux2010_x86_64.whl (908 kB)\n",
            "\u001b[2K     \u001b[90m━━━━━━━━━━━━━━━━━━━━━━━━━━━━━━━━━━━━━━━━\u001b[0m \u001b[32m908.3/908.3 kB\u001b[0m \u001b[31m71.2 MB/s\u001b[0m eta \u001b[36m0:00:00\u001b[0m\n",
            "\u001b[?25hCollecting ninja (from easyocr)\n",
            "  Downloading ninja-1.11.1.1-py2.py3-none-manylinux1_x86_64.manylinux_2_5_x86_64.whl (307 kB)\n",
            "\u001b[2K     \u001b[90m━━━━━━━━━━━━━━━━━━━━━━━━━━━━━━━━━━━━━━━━\u001b[0m \u001b[32m307.2/307.2 kB\u001b[0m \u001b[31m33.4 MB/s\u001b[0m eta \u001b[36m0:00:00\u001b[0m\n",
            "\u001b[?25hRequirement already satisfied: requests in /usr/local/lib/python3.10/dist-packages (from torchvision>=0.5->easyocr) (2.31.0)\n",
            "Requirement already satisfied: filelock in /usr/local/lib/python3.10/dist-packages (from torch->easyocr) (3.12.4)\n",
            "Requirement already satisfied: typing-extensions in /usr/local/lib/python3.10/dist-packages (from torch->easyocr) (4.5.0)\n",
            "Requirement already satisfied: sympy in /usr/local/lib/python3.10/dist-packages (from torch->easyocr) (1.12)\n",
            "Requirement already satisfied: networkx in /usr/local/lib/python3.10/dist-packages (from torch->easyocr) (3.2)\n",
            "Requirement already satisfied: jinja2 in /usr/local/lib/python3.10/dist-packages (from torch->easyocr) (3.1.2)\n",
            "Requirement already satisfied: fsspec in /usr/local/lib/python3.10/dist-packages (from torch->easyocr) (2023.6.0)\n",
            "Requirement already satisfied: triton==2.1.0 in /usr/local/lib/python3.10/dist-packages (from torch->easyocr) (2.1.0)\n",
            "Requirement already satisfied: six in /usr/local/lib/python3.10/dist-packages (from python-bidi->easyocr) (1.16.0)\n",
            "Requirement already satisfied: imageio>=2.4.1 in /usr/local/lib/python3.10/dist-packages (from scikit-image->easyocr) (2.31.6)\n",
            "Requirement already satisfied: tifffile>=2019.7.26 in /usr/local/lib/python3.10/dist-packages (from scikit-image->easyocr) (2023.9.26)\n",
            "Requirement already satisfied: PyWavelets>=1.1.1 in /usr/local/lib/python3.10/dist-packages (from scikit-image->easyocr) (1.4.1)\n",
            "Requirement already satisfied: packaging>=20.0 in /usr/local/lib/python3.10/dist-packages (from scikit-image->easyocr) (23.2)\n",
            "Requirement already satisfied: MarkupSafe>=2.0 in /usr/local/lib/python3.10/dist-packages (from jinja2->torch->easyocr) (2.1.3)\n",
            "Requirement already satisfied: charset-normalizer<4,>=2 in /usr/local/lib/python3.10/dist-packages (from requests->torchvision>=0.5->easyocr) (3.3.1)\n",
            "Requirement already satisfied: idna<4,>=2.5 in /usr/local/lib/python3.10/dist-packages (from requests->torchvision>=0.5->easyocr) (3.4)\n",
            "Requirement already satisfied: urllib3<3,>=1.21.1 in /usr/local/lib/python3.10/dist-packages (from requests->torchvision>=0.5->easyocr) (2.0.7)\n",
            "Requirement already satisfied: certifi>=2017.4.17 in /usr/local/lib/python3.10/dist-packages (from requests->torchvision>=0.5->easyocr) (2023.7.22)\n",
            "Requirement already satisfied: mpmath>=0.19 in /usr/local/lib/python3.10/dist-packages (from sympy->torch->easyocr) (1.3.0)\n",
            "Installing collected packages: pyclipper, ninja, python-bidi, easyocr\n",
            "Successfully installed easyocr-1.7.1 ninja-1.11.1.1 pyclipper-1.3.0.post5 python-bidi-0.4.2\n",
            "Collecting keras-ocr\n",
            "  Downloading keras_ocr-0.8.9-py3-none-any.whl (41 kB)\n",
            "\u001b[2K     \u001b[90m━━━━━━━━━━━━━━━━━━━━━━━━━━━━━━━━━━━━━━━━\u001b[0m \u001b[32m41.4/41.4 kB\u001b[0m \u001b[31m1.8 MB/s\u001b[0m eta \u001b[36m0:00:00\u001b[0m\n",
            "\u001b[?25hRequirement already satisfied: editdistance in /usr/local/lib/python3.10/dist-packages (from keras-ocr) (0.6.2)\n",
            "Collecting efficientnet==1.0.0 (from keras-ocr)\n",
            "  Downloading efficientnet-1.0.0-py3-none-any.whl (17 kB)\n",
            "Collecting essential_generators (from keras-ocr)\n",
            "  Downloading essential_generators-1.0-py3-none-any.whl (9.5 MB)\n",
            "\u001b[2K     \u001b[90m━━━━━━━━━━━━━━━━━━━━━━━━━━━━━━━━━━━━━━━━\u001b[0m \u001b[32m9.5/9.5 MB\u001b[0m \u001b[31m58.9 MB/s\u001b[0m eta \u001b[36m0:00:00\u001b[0m\n",
            "\u001b[?25hRequirement already satisfied: fonttools in /usr/local/lib/python3.10/dist-packages (from keras-ocr) (4.43.1)\n",
            "Requirement already satisfied: imgaug in /usr/local/lib/python3.10/dist-packages (from keras-ocr) (0.4.0)\n",
            "Requirement already satisfied: pyclipper in /usr/local/lib/python3.10/dist-packages (from keras-ocr) (1.3.0.post5)\n",
            "Requirement already satisfied: shapely in /usr/local/lib/python3.10/dist-packages (from keras-ocr) (2.0.2)\n",
            "Requirement already satisfied: tqdm in /usr/local/lib/python3.10/dist-packages (from keras-ocr) (4.66.1)\n",
            "Collecting validators (from keras-ocr)\n",
            "  Downloading validators-0.22.0-py3-none-any.whl (26 kB)\n",
            "Collecting keras-applications<=1.0.8,>=1.0.7 (from efficientnet==1.0.0->keras-ocr)\n",
            "  Downloading Keras_Applications-1.0.8-py3-none-any.whl (50 kB)\n",
            "\u001b[2K     \u001b[90m━━━━━━━━━━━━━━━━━━━━━━━━━━━━━━━━━━━━━━━━\u001b[0m \u001b[32m50.7/50.7 kB\u001b[0m \u001b[31m7.9 MB/s\u001b[0m eta \u001b[36m0:00:00\u001b[0m\n",
            "\u001b[?25hRequirement already satisfied: scikit-image in /usr/local/lib/python3.10/dist-packages (from efficientnet==1.0.0->keras-ocr) (0.19.3)\n",
            "Requirement already satisfied: six in /usr/local/lib/python3.10/dist-packages (from imgaug->keras-ocr) (1.16.0)\n",
            "Requirement already satisfied: numpy>=1.15 in /usr/local/lib/python3.10/dist-packages (from imgaug->keras-ocr) (1.23.5)\n",
            "Requirement already satisfied: scipy in /usr/local/lib/python3.10/dist-packages (from imgaug->keras-ocr) (1.11.3)\n",
            "Requirement already satisfied: Pillow in /usr/local/lib/python3.10/dist-packages (from imgaug->keras-ocr) (9.4.0)\n",
            "Requirement already satisfied: matplotlib in /usr/local/lib/python3.10/dist-packages (from imgaug->keras-ocr) (3.7.1)\n",
            "Requirement already satisfied: opencv-python in /usr/local/lib/python3.10/dist-packages (from imgaug->keras-ocr) (4.8.0.76)\n",
            "Requirement already satisfied: imageio in /usr/local/lib/python3.10/dist-packages (from imgaug->keras-ocr) (2.31.6)\n",
            "Requirement already satisfied: h5py in /usr/local/lib/python3.10/dist-packages (from keras-applications<=1.0.8,>=1.0.7->efficientnet==1.0.0->keras-ocr) (3.9.0)\n",
            "Requirement already satisfied: networkx>=2.2 in /usr/local/lib/python3.10/dist-packages (from scikit-image->efficientnet==1.0.0->keras-ocr) (3.2)\n",
            "Requirement already satisfied: tifffile>=2019.7.26 in /usr/local/lib/python3.10/dist-packages (from scikit-image->efficientnet==1.0.0->keras-ocr) (2023.9.26)\n",
            "Requirement already satisfied: PyWavelets>=1.1.1 in /usr/local/lib/python3.10/dist-packages (from scikit-image->efficientnet==1.0.0->keras-ocr) (1.4.1)\n",
            "Requirement already satisfied: packaging>=20.0 in /usr/local/lib/python3.10/dist-packages (from scikit-image->efficientnet==1.0.0->keras-ocr) (23.2)\n",
            "Requirement already satisfied: contourpy>=1.0.1 in /usr/local/lib/python3.10/dist-packages (from matplotlib->imgaug->keras-ocr) (1.1.1)\n",
            "Requirement already satisfied: cycler>=0.10 in /usr/local/lib/python3.10/dist-packages (from matplotlib->imgaug->keras-ocr) (0.12.1)\n",
            "Requirement already satisfied: kiwisolver>=1.0.1 in /usr/local/lib/python3.10/dist-packages (from matplotlib->imgaug->keras-ocr) (1.4.5)\n",
            "Requirement already satisfied: pyparsing>=2.3.1 in /usr/local/lib/python3.10/dist-packages (from matplotlib->imgaug->keras-ocr) (3.1.1)\n",
            "Requirement already satisfied: python-dateutil>=2.7 in /usr/local/lib/python3.10/dist-packages (from matplotlib->imgaug->keras-ocr) (2.8.2)\n",
            "Installing collected packages: essential_generators, validators, keras-applications, efficientnet, keras-ocr\n",
            "Successfully installed efficientnet-1.0.0 essential_generators-1.0 keras-applications-1.0.8 keras-ocr-0.8.9 validators-0.22.0\n",
            "Requirement already satisfied: ipywidgets in /usr/local/lib/python3.10/dist-packages (7.7.1)\n",
            "Requirement already satisfied: ipykernel>=4.5.1 in /usr/local/lib/python3.10/dist-packages (from ipywidgets) (5.5.6)\n",
            "Requirement already satisfied: ipython-genutils~=0.2.0 in /usr/local/lib/python3.10/dist-packages (from ipywidgets) (0.2.0)\n",
            "Requirement already satisfied: traitlets>=4.3.1 in /usr/local/lib/python3.10/dist-packages (from ipywidgets) (5.7.1)\n",
            "Requirement already satisfied: widgetsnbextension~=3.6.0 in /usr/local/lib/python3.10/dist-packages (from ipywidgets) (3.6.6)\n",
            "Requirement already satisfied: ipython>=4.0.0 in /usr/local/lib/python3.10/dist-packages (from ipywidgets) (7.34.0)\n",
            "Requirement already satisfied: jupyterlab-widgets>=1.0.0 in /usr/local/lib/python3.10/dist-packages (from ipywidgets) (3.0.9)\n",
            "Requirement already satisfied: jupyter-client in /usr/local/lib/python3.10/dist-packages (from ipykernel>=4.5.1->ipywidgets) (6.1.12)\n",
            "Requirement already satisfied: tornado>=4.2 in /usr/local/lib/python3.10/dist-packages (from ipykernel>=4.5.1->ipywidgets) (6.3.2)\n",
            "Requirement already satisfied: setuptools>=18.5 in /usr/local/lib/python3.10/dist-packages (from ipython>=4.0.0->ipywidgets) (67.7.2)\n",
            "Collecting jedi>=0.16 (from ipython>=4.0.0->ipywidgets)\n",
            "  Downloading jedi-0.19.1-py2.py3-none-any.whl (1.6 MB)\n",
            "\u001b[2K     \u001b[90m━━━━━━━━━━━━━━━━━━━━━━━━━━━━━━━━━━━━━━━━\u001b[0m \u001b[32m1.6/1.6 MB\u001b[0m \u001b[31m21.0 MB/s\u001b[0m eta \u001b[36m0:00:00\u001b[0m\n",
            "\u001b[?25hRequirement already satisfied: decorator in /usr/local/lib/python3.10/dist-packages (from ipython>=4.0.0->ipywidgets) (4.4.2)\n",
            "Requirement already satisfied: pickleshare in /usr/local/lib/python3.10/dist-packages (from ipython>=4.0.0->ipywidgets) (0.7.5)\n",
            "Requirement already satisfied: prompt-toolkit!=3.0.0,!=3.0.1,<3.1.0,>=2.0.0 in /usr/local/lib/python3.10/dist-packages (from ipython>=4.0.0->ipywidgets) (3.0.39)\n",
            "Requirement already satisfied: pygments in /usr/local/lib/python3.10/dist-packages (from ipython>=4.0.0->ipywidgets) (2.16.1)\n",
            "Requirement already satisfied: backcall in /usr/local/lib/python3.10/dist-packages (from ipython>=4.0.0->ipywidgets) (0.2.0)\n",
            "Requirement already satisfied: matplotlib-inline in /usr/local/lib/python3.10/dist-packages (from ipython>=4.0.0->ipywidgets) (0.1.6)\n",
            "Requirement already satisfied: pexpect>4.3 in /usr/local/lib/python3.10/dist-packages (from ipython>=4.0.0->ipywidgets) (4.8.0)\n",
            "Requirement already satisfied: notebook>=4.4.1 in /usr/local/lib/python3.10/dist-packages (from widgetsnbextension~=3.6.0->ipywidgets) (6.5.5)\n",
            "Requirement already satisfied: parso<0.9.0,>=0.8.3 in /usr/local/lib/python3.10/dist-packages (from jedi>=0.16->ipython>=4.0.0->ipywidgets) (0.8.3)\n",
            "Requirement already satisfied: jinja2 in /usr/local/lib/python3.10/dist-packages (from notebook>=4.4.1->widgetsnbextension~=3.6.0->ipywidgets) (3.1.2)\n",
            "Requirement already satisfied: pyzmq<25,>=17 in /usr/local/lib/python3.10/dist-packages (from notebook>=4.4.1->widgetsnbextension~=3.6.0->ipywidgets) (23.2.1)\n",
            "Requirement already satisfied: argon2-cffi in /usr/local/lib/python3.10/dist-packages (from notebook>=4.4.1->widgetsnbextension~=3.6.0->ipywidgets) (23.1.0)\n",
            "Requirement already satisfied: jupyter-core>=4.6.1 in /usr/local/lib/python3.10/dist-packages (from notebook>=4.4.1->widgetsnbextension~=3.6.0->ipywidgets) (5.4.0)\n",
            "Requirement already satisfied: nbformat in /usr/local/lib/python3.10/dist-packages (from notebook>=4.4.1->widgetsnbextension~=3.6.0->ipywidgets) (5.9.2)\n",
            "Requirement already satisfied: nbconvert>=5 in /usr/local/lib/python3.10/dist-packages (from notebook>=4.4.1->widgetsnbextension~=3.6.0->ipywidgets) (6.5.4)\n",
            "Requirement already satisfied: nest-asyncio>=1.5 in /usr/local/lib/python3.10/dist-packages (from notebook>=4.4.1->widgetsnbextension~=3.6.0->ipywidgets) (1.5.8)\n",
            "Requirement already satisfied: Send2Trash>=1.8.0 in /usr/local/lib/python3.10/dist-packages (from notebook>=4.4.1->widgetsnbextension~=3.6.0->ipywidgets) (1.8.2)\n",
            "Requirement already satisfied: terminado>=0.8.3 in /usr/local/lib/python3.10/dist-packages (from notebook>=4.4.1->widgetsnbextension~=3.6.0->ipywidgets) (0.17.1)\n",
            "Requirement already satisfied: prometheus-client in /usr/local/lib/python3.10/dist-packages (from notebook>=4.4.1->widgetsnbextension~=3.6.0->ipywidgets) (0.17.1)\n",
            "Requirement already satisfied: nbclassic>=0.4.7 in /usr/local/lib/python3.10/dist-packages (from notebook>=4.4.1->widgetsnbextension~=3.6.0->ipywidgets) (1.0.0)\n",
            "Requirement already satisfied: python-dateutil>=2.1 in /usr/local/lib/python3.10/dist-packages (from jupyter-client->ipykernel>=4.5.1->ipywidgets) (2.8.2)\n",
            "Requirement already satisfied: ptyprocess>=0.5 in /usr/local/lib/python3.10/dist-packages (from pexpect>4.3->ipython>=4.0.0->ipywidgets) (0.7.0)\n",
            "Requirement already satisfied: wcwidth in /usr/local/lib/python3.10/dist-packages (from prompt-toolkit!=3.0.0,!=3.0.1,<3.1.0,>=2.0.0->ipython>=4.0.0->ipywidgets) (0.2.8)\n",
            "Requirement already satisfied: platformdirs>=2.5 in /usr/local/lib/python3.10/dist-packages (from jupyter-core>=4.6.1->notebook>=4.4.1->widgetsnbextension~=3.6.0->ipywidgets) (3.11.0)\n",
            "Requirement already satisfied: jupyter-server>=1.8 in /usr/local/lib/python3.10/dist-packages (from nbclassic>=0.4.7->notebook>=4.4.1->widgetsnbextension~=3.6.0->ipywidgets) (1.24.0)\n",
            "Requirement already satisfied: notebook-shim>=0.2.3 in /usr/local/lib/python3.10/dist-packages (from nbclassic>=0.4.7->notebook>=4.4.1->widgetsnbextension~=3.6.0->ipywidgets) (0.2.3)\n",
            "Requirement already satisfied: lxml in /usr/local/lib/python3.10/dist-packages (from nbconvert>=5->notebook>=4.4.1->widgetsnbextension~=3.6.0->ipywidgets) (4.9.3)\n",
            "Requirement already satisfied: beautifulsoup4 in /usr/local/lib/python3.10/dist-packages (from nbconvert>=5->notebook>=4.4.1->widgetsnbextension~=3.6.0->ipywidgets) (4.11.2)\n",
            "Requirement already satisfied: bleach in /usr/local/lib/python3.10/dist-packages (from nbconvert>=5->notebook>=4.4.1->widgetsnbextension~=3.6.0->ipywidgets) (6.1.0)\n",
            "Requirement already satisfied: defusedxml in /usr/local/lib/python3.10/dist-packages (from nbconvert>=5->notebook>=4.4.1->widgetsnbextension~=3.6.0->ipywidgets) (0.7.1)\n",
            "Requirement already satisfied: entrypoints>=0.2.2 in /usr/local/lib/python3.10/dist-packages (from nbconvert>=5->notebook>=4.4.1->widgetsnbextension~=3.6.0->ipywidgets) (0.4)\n",
            "Requirement already satisfied: jupyterlab-pygments in /usr/local/lib/python3.10/dist-packages (from nbconvert>=5->notebook>=4.4.1->widgetsnbextension~=3.6.0->ipywidgets) (0.2.2)\n",
            "Requirement already satisfied: MarkupSafe>=2.0 in /usr/local/lib/python3.10/dist-packages (from nbconvert>=5->notebook>=4.4.1->widgetsnbextension~=3.6.0->ipywidgets) (2.1.3)\n",
            "Requirement already satisfied: mistune<2,>=0.8.1 in /usr/local/lib/python3.10/dist-packages (from nbconvert>=5->notebook>=4.4.1->widgetsnbextension~=3.6.0->ipywidgets) (0.8.4)\n",
            "Requirement already satisfied: nbclient>=0.5.0 in /usr/local/lib/python3.10/dist-packages (from nbconvert>=5->notebook>=4.4.1->widgetsnbextension~=3.6.0->ipywidgets) (0.8.0)\n",
            "Requirement already satisfied: packaging in /usr/local/lib/python3.10/dist-packages (from nbconvert>=5->notebook>=4.4.1->widgetsnbextension~=3.6.0->ipywidgets) (23.2)\n",
            "Requirement already satisfied: pandocfilters>=1.4.1 in /usr/local/lib/python3.10/dist-packages (from nbconvert>=5->notebook>=4.4.1->widgetsnbextension~=3.6.0->ipywidgets) (1.5.0)\n",
            "Requirement already satisfied: tinycss2 in /usr/local/lib/python3.10/dist-packages (from nbconvert>=5->notebook>=4.4.1->widgetsnbextension~=3.6.0->ipywidgets) (1.2.1)\n",
            "Requirement already satisfied: fastjsonschema in /usr/local/lib/python3.10/dist-packages (from nbformat->notebook>=4.4.1->widgetsnbextension~=3.6.0->ipywidgets) (2.18.1)\n",
            "Requirement already satisfied: jsonschema>=2.6 in /usr/local/lib/python3.10/dist-packages (from nbformat->notebook>=4.4.1->widgetsnbextension~=3.6.0->ipywidgets) (4.19.1)\n",
            "Requirement already satisfied: six>=1.5 in /usr/local/lib/python3.10/dist-packages (from python-dateutil>=2.1->jupyter-client->ipykernel>=4.5.1->ipywidgets) (1.16.0)\n",
            "Requirement already satisfied: argon2-cffi-bindings in /usr/local/lib/python3.10/dist-packages (from argon2-cffi->notebook>=4.4.1->widgetsnbextension~=3.6.0->ipywidgets) (21.2.0)\n",
            "Requirement already satisfied: attrs>=22.2.0 in /usr/local/lib/python3.10/dist-packages (from jsonschema>=2.6->nbformat->notebook>=4.4.1->widgetsnbextension~=3.6.0->ipywidgets) (23.1.0)\n",
            "Requirement already satisfied: jsonschema-specifications>=2023.03.6 in /usr/local/lib/python3.10/dist-packages (from jsonschema>=2.6->nbformat->notebook>=4.4.1->widgetsnbextension~=3.6.0->ipywidgets) (2023.7.1)\n",
            "Requirement already satisfied: referencing>=0.28.4 in /usr/local/lib/python3.10/dist-packages (from jsonschema>=2.6->nbformat->notebook>=4.4.1->widgetsnbextension~=3.6.0->ipywidgets) (0.30.2)\n",
            "Requirement already satisfied: rpds-py>=0.7.1 in /usr/local/lib/python3.10/dist-packages (from jsonschema>=2.6->nbformat->notebook>=4.4.1->widgetsnbextension~=3.6.0->ipywidgets) (0.10.6)\n",
            "Requirement already satisfied: anyio<4,>=3.1.0 in /usr/local/lib/python3.10/dist-packages (from jupyter-server>=1.8->nbclassic>=0.4.7->notebook>=4.4.1->widgetsnbextension~=3.6.0->ipywidgets) (3.7.1)\n",
            "Requirement already satisfied: websocket-client in /usr/local/lib/python3.10/dist-packages (from jupyter-server>=1.8->nbclassic>=0.4.7->notebook>=4.4.1->widgetsnbextension~=3.6.0->ipywidgets) (1.6.4)\n",
            "Requirement already satisfied: cffi>=1.0.1 in /usr/local/lib/python3.10/dist-packages (from argon2-cffi-bindings->argon2-cffi->notebook>=4.4.1->widgetsnbextension~=3.6.0->ipywidgets) (1.16.0)\n",
            "Requirement already satisfied: soupsieve>1.2 in /usr/local/lib/python3.10/dist-packages (from beautifulsoup4->nbconvert>=5->notebook>=4.4.1->widgetsnbextension~=3.6.0->ipywidgets) (2.5)\n",
            "Requirement already satisfied: webencodings in /usr/local/lib/python3.10/dist-packages (from bleach->nbconvert>=5->notebook>=4.4.1->widgetsnbextension~=3.6.0->ipywidgets) (0.5.1)\n",
            "Requirement already satisfied: idna>=2.8 in /usr/local/lib/python3.10/dist-packages (from anyio<4,>=3.1.0->jupyter-server>=1.8->nbclassic>=0.4.7->notebook>=4.4.1->widgetsnbextension~=3.6.0->ipywidgets) (3.4)\n",
            "Requirement already satisfied: sniffio>=1.1 in /usr/local/lib/python3.10/dist-packages (from anyio<4,>=3.1.0->jupyter-server>=1.8->nbclassic>=0.4.7->notebook>=4.4.1->widgetsnbextension~=3.6.0->ipywidgets) (1.3.0)\n",
            "Requirement already satisfied: exceptiongroup in /usr/local/lib/python3.10/dist-packages (from anyio<4,>=3.1.0->jupyter-server>=1.8->nbclassic>=0.4.7->notebook>=4.4.1->widgetsnbextension~=3.6.0->ipywidgets) (1.1.3)\n",
            "Requirement already satisfied: pycparser in /usr/local/lib/python3.10/dist-packages (from cffi>=1.0.1->argon2-cffi-bindings->argon2-cffi->notebook>=4.4.1->widgetsnbextension~=3.6.0->ipywidgets) (2.21)\n",
            "Installing collected packages: jedi\n",
            "Successfully installed jedi-0.19.1\n"
          ]
        }
      ],
      "source": [
        "# Step 1: Install Required Libraries 📚\n",
        "\n",
        "!apt install tesseract-ocr\n",
        "!pip install pytesseract\n",
        "!pip install pillow\n",
        "!pip install easyocr\n",
        "!pip install keras-ocr\n",
        "!pip install ipywidgets"
      ]
    },
    {
      "cell_type": "code",
      "source": [
        "# Step 2: Import Libraries 📝\n",
        "\n",
        "from PIL import Image\n",
        "from PIL import ImageDraw\n",
        "import pytesseract\n",
        "import easyocr\n",
        "import keras_ocr\n",
        "import matplotlib.pyplot as plt\n",
        "import ipywidgets as widgets\n",
        "import numpy as np\n",
        "from IPython.display import display\n",
        "import io\n",
        "from PIL import ImageDraw\n",
        "import numpy as np\n",
        "import matplotlib.pyplot as plt\n",
        "import matplotlib.patches as patches\n",
        "from ipywidgets import Button"
      ],
      "metadata": {
        "id": "Ro5z0-45hEsA"
      },
      "execution_count": null,
      "outputs": []
    },
    {
      "cell_type": "code",
      "source": [
        "# Step 3: Upload Image using ipywidgets 🖼️\n",
        "\n",
        "uploader = widgets.FileUpload(\n",
        "    accept='image/*',\n",
        "    multiple=False\n",
        ")\n",
        "display(uploader)"
      ],
      "metadata": {
        "colab": {
          "base_uri": "https://localhost:8080/",
          "height": 49,
          "referenced_widgets": [
            "0358d534be314f6688e7434251ddfeb9",
            "3eba0af777e94209acd6c87643a958a1",
            "7f3534d7d133400ea2c76bad216a6a86"
          ]
        },
        "id": "f2bjAPJYhHCV",
        "outputId": "c540bfbc-6053-4b95-bc96-5073bb7bda33"
      },
      "execution_count": null,
      "outputs": [
        {
          "output_type": "display_data",
          "data": {
            "text/plain": [
              "FileUpload(value={}, accept='image/*', description='Upload')"
            ],
            "application/vnd.jupyter.widget-view+json": {
              "version_major": 2,
              "version_minor": 0,
              "model_id": "0358d534be314f6688e7434251ddfeb9"
            }
          },
          "metadata": {}
        }
      ]
    },
    {
      "cell_type": "code",
      "source": [
        "# To extract the uploaded file, you can use:\n",
        "\n",
        "uploaded = uploader.value\n",
        "image_file_name = next(iter(uploaded))"
      ],
      "metadata": {
        "id": "b58Fb-jqhN2v"
      },
      "execution_count": null,
      "outputs": []
    },
    {
      "cell_type": "code",
      "source": [
        "# Step 4: Display Uploaded Image 🖼️👀\n",
        "\n",
        "# Convert bytes to an image\n",
        "image = Image.open(io.BytesIO(uploaded[image_file_name]['content']))\n",
        "\n",
        "fig, ax = plt.subplots(figsize=(10, 10))\n",
        "ax.imshow(image)\n",
        "ax.axis('off')\n",
        "plt.show()"
      ],
      "metadata": {
        "colab": {
          "base_uri": "https://localhost:8080/",
          "height": 211
        },
        "id": "93M1BTxihP7I",
        "outputId": "2a4f13a1-dae3-47d9-8605-dd2809d7a7a1"
      },
      "execution_count": null,
      "outputs": [
        {
          "output_type": "display_data",
          "data": {
            "text/plain": [
              "<Figure size 1000x1000 with 1 Axes>"
            ],
            "image/png": "[encoded data removed]"
          },
          "metadata": {}
        }
      ]
    },
    {
      "cell_type": "code",
      "source": [
        "# Step 5: Create OCR Functions for All Methods 🖥️📖"
      ],
      "metadata": {
        "id": "mwjK6u9WznIQ"
      },
      "execution_count": null,
      "outputs": []
    },
    {
      "cell_type": "code",
      "source": [
        "# Method 1: pytesseract\n",
        "\n",
        "def ocr_with_pytesseract(image):\n",
        "    # Convert Image object to a NumPy array\n",
        "    image_np = np.array(image)\n",
        "\n",
        "    # Use Pytesseract to read the text from the array\n",
        "    text = pytesseract.image_to_string(image)\n",
        "\n",
        "    # Extract the raw data using pytesseract\n",
        "    raw_data = pytesseract.image_to_data(image)\n",
        "\n",
        "    return text.upper(), raw_data"
      ],
      "metadata": {
        "id": "-IGDfARShQz1"
      },
      "execution_count": null,
      "outputs": []
    },
    {
      "cell_type": "code",
      "source": [
        "# Method 2: easyocr\n",
        "\n",
        "def ocr_with_easyocr(image):\n",
        "\n",
        "    # Initialize EasyOCR reader\n",
        "    reader = easyocr.Reader(['en'])\n",
        "\n",
        "    # Convert Image object to a NumPy array\n",
        "    image_np = np.array(image)\n",
        "\n",
        "    # Use EasyOCR to read the text from the array\n",
        "    results = reader.readtext(image_np)\n",
        "\n",
        "    # Extract and join the text\n",
        "    extracted_text = \" \".join([result[1] for result in results])\n",
        "\n",
        "    return extracted_text.upper(), results"
      ],
      "metadata": {
        "id": "UbEbCBdqhT3r"
      },
      "execution_count": null,
      "outputs": []
    },
    {
      "cell_type": "code",
      "source": [
        "# Method 3: keras_ocr\n",
        "\n",
        "pipeline = keras_ocr.pipeline.Pipeline()\n",
        "\n",
        "def ocr_with_keras_ocr(image):\n",
        "    # Convert Image object to a NumPy array\n",
        "    image_np = np.array(image)\n",
        "\n",
        "    # Drop the alpha channel if it exists\n",
        "    if image_np.shape[2] == 4:\n",
        "        image_np = image_np[:, :, :3]\n",
        "\n",
        "    # Use Keras OCR to read the text from the array\n",
        "    results = pipeline.recognize([image_np])\n",
        "\n",
        "    # Extract and join the text\n",
        "    extracted_text = \" \".join([result[0] for result in results[0]])\n",
        "\n",
        "    return extracted_text.upper(), results"
      ],
      "metadata": {
        "colab": {
          "base_uri": "https://localhost:8080/"
        },
        "id": "SxxsfrnrhV0w",
        "outputId": "84b46a6f-bffc-4dd8-a187-091d994f3a21"
      },
      "execution_count": null,
      "outputs": [
        {
          "output_type": "stream",
          "name": "stdout",
          "text": [
            "Looking for /root/.keras-ocr/craft_mlt_25k.h5\n",
            "Downloading /root/.keras-ocr/craft_mlt_25k.h5\n"
          ]
        },
        {
          "output_type": "stream",
          "name": "stderr",
          "text": [
            "WARNING:tensorflow:From /usr/local/lib/python3.10/dist-packages/tensorflow/python/util/dispatch.py:1260: resize_bilinear (from tensorflow.python.ops.image_ops_impl) is deprecated and will be removed in a future version.\n",
            "Instructions for updating:\n",
            "Use `tf.image.resize(...method=ResizeMethod.BILINEAR...)` instead.\n"
          ]
        },
        {
          "output_type": "stream",
          "name": "stdout",
          "text": [
            "Looking for /root/.keras-ocr/crnn_kurapan.h5\n",
            "Downloading /root/.keras-ocr/crnn_kurapan.h5\n"
          ]
        }
      ]
    },
    {
      "cell_type": "code",
      "source": [
        "# Step 6: Run OCR for All Methods 🖥️📖\n",
        "\n",
        "pytesseract_text = ocr_with_pytesseract(image)\n",
        "easyocr_text, easyocr_results = ocr_with_easyocr(image)\n",
        "keras_ocr_text, keras_ocr_results = ocr_with_keras_ocr(image)"
      ],
      "metadata": {
        "colab": {
          "base_uri": "https://localhost:8080/"
        },
        "id": "CvO7ZdLyhZfE",
        "outputId": "21f71917-b330-4b7b-8d2e-75c87f36a945"
      },
      "execution_count": null,
      "outputs": [
        {
          "output_type": "stream",
          "name": "stderr",
          "text": [
            "WARNING:easyocr.easyocr:Downloading detection model, please wait. This may take several minutes depending upon your network connection.\n"
          ]
        },
        {
          "output_type": "stream",
          "name": "stdout",
          "text": [
            "Progress: |██████████████████████████████████████████████████| 100.0% Complete"
          ]
        },
        {
          "output_type": "stream",
          "name": "stderr",
          "text": [
            "WARNING:easyocr.easyocr:Downloading recognition model, please wait. This may take several minutes depending upon your network connection.\n"
          ]
        },
        {
          "output_type": "stream",
          "name": "stdout",
          "text": [
            "1/1 [==============================] - 2s 2s/step\n",
            "1/1 [==============================] - 3s 3s/step\n"
          ]
        }
      ]
    },
    {
      "cell_type": "code",
      "source": [
        "# Step 7(a): Display Extracted Text and Annotated Image as Output for pytesseract 📝\n",
        "\n",
        "def annotate_pytesseract(image):\n",
        "    # Clone the image to annotate\n",
        "    image_copy = image.copy()\n",
        "\n",
        "    # Create draw object\n",
        "    draw = ImageDraw.Draw(image_copy)\n",
        "\n",
        "    # Get bounding boxes and extract text\n",
        "    bounding_boxes = pytesseract.image_to_boxes(image_copy)\n",
        "\n",
        "    # Initialize an empty list to collect the extracted text\n",
        "    extracted_texts = []\n",
        "\n",
        "    for box in bounding_boxes.splitlines():\n",
        "        b = box.split()\n",
        "        text = b[0]\n",
        "        extracted_texts.append(text)\n",
        "        coordinates = [(int(b[1]), int(image_copy.size[1] - int(b[2]))), (int(b[3]), int(image_copy.size[1] - int(b[4])))]\n",
        "\n",
        "        # Draw rectangle\n",
        "        draw.rectangle(coordinates, outline=\"red\")\n",
        "\n",
        "        # Draw text\n",
        "        draw.text((coordinates[0][0], coordinates[0][1] - 10), text, fill=\"red\")\n",
        "\n",
        "    # Print the extracted text\n",
        "    print(f\"Extracted Text using PYTESSARACT: {' '.join(extracted_texts)}\")\n",
        "\n",
        "    return image_copy\n",
        "\n",
        "# Run the modified function\n",
        "pytesseract_annotated = annotate_pytesseract(image)\n",
        "\n",
        "# Convert PIL Image to NumPy array for matplotlib display\n",
        "pytesseract_annotated_np = np.array(pytesseract_annotated)\n",
        "\n",
        "# Display the annotated image\n",
        "fig, ax = plt.subplots(figsize=(10, 10))\n",
        "ax.imshow(pytesseract_annotated_np)\n",
        "ax.axis('off')\n",
        "plt.show()\n"
      ],
      "metadata": {
        "id": "920w0wiJhyRF",
        "colab": {
          "base_uri": "https://localhost:8080/",
          "height": 228
        },
        "outputId": "6b09a2a2-526d-4c30-e71f-8103cae1533f"
      },
      "execution_count": null,
      "outputs": [
        {
          "output_type": "stream",
          "name": "stdout",
          "text": [
            "Extracted Text using PYTESSARACT: ~ © J i e Z h a n g I C S E , F S E , A S E\n"
          ]
        },
        {
          "output_type": "display_data",
          "data": {
            "text/plain": [
              "<Figure size 1000x1000 with 1 Axes>"
            ],
            "image/png": "[encoded data removed]"
          },
          "metadata": {}
        }
      ]
    },
    {
      "cell_type": "code",
      "source": [
        "# Step 7(b): Display Extracted Text and Annotated Image as Output for easyocr 📝\n",
        "\n",
        "def annotate_easyocr(image, results):\n",
        "    # Convert PIL Image to NumPy array\n",
        "    image_np = np.array(image)\n",
        "\n",
        "    fig, ax = plt.subplots(figsize=(10, 10))\n",
        "\n",
        "    # Initialize an empty list to collect the extracted text\n",
        "    extracted_texts = []\n",
        "\n",
        "    for result in results:\n",
        "        top_left = tuple(map(int, result[0][0]))\n",
        "        bottom_right = tuple(map(int, result[0][2]))\n",
        "        text = result[1]\n",
        "\n",
        "        # Append the extracted text to the list\n",
        "        extracted_texts.append(text)\n",
        "\n",
        "        # Draw rectangle\n",
        "        rect = patches.Rectangle(top_left, bottom_right[0] - top_left[0], bottom_right[1] - top_left[1], linewidth=1, edgecolor='r', facecolor='none')\n",
        "        ax.add_patch(rect)\n",
        "\n",
        "        # Draw text\n",
        "        plt.text(top_left[0], top_left[1] - 10, text, fontsize=12, color='red')\n",
        "\n",
        "    # Print the extracted text\n",
        "    print(f\"Extracted Text using EASYOCR: {' '.join(extracted_texts)}\")\n",
        "\n",
        "    ax.imshow(image_np)\n",
        "    ax.axis('off')\n",
        "    plt.show()\n",
        "\n",
        "# Run the function\n",
        "annotate_easyocr(image, easyocr_results)\n"
      ],
      "metadata": {
        "id": "ZBgpcKQ1h0f7",
        "colab": {
          "base_uri": "https://localhost:8080/",
          "height": 228
        },
        "outputId": "a6bbc204-6085-43a1-f642-776d084aa5f6"
      },
      "execution_count": null,
      "outputs": [
        {
          "output_type": "stream",
          "name": "stdout",
          "text": [
            "Extracted Text using EASYOCR: Jie Zhang ICSE, FSE, ASE\n"
          ]
        },
        {
          "output_type": "display_data",
          "data": {
            "text/plain": [
              "<Figure size 1000x1000 with 1 Axes>"
            ],
            "image/png": "[encoded data removed]"
          },
          "metadata": {}
        }
      ]
    },
    {
      "cell_type": "code",
      "source": [
        "# Step 7(c): Display Extracted Text and Annotated Image as Output for keras 📝\n",
        "\n",
        "import keras_ocr.tools\n",
        "\n",
        "def annotate_keras_ocr(image, results):\n",
        "    # Convert PIL Image to a NumPy array\n",
        "    image_np = np.array(image)\n",
        "\n",
        "    # Create a matplotlib figure and axis\n",
        "    fig, ax = plt.subplots(figsize=(10, 10))\n",
        "\n",
        "    # Use Keras OCR's drawAnnotations function to annotate the image\n",
        "    keras_ocr.tools.drawAnnotations(image=image_np, predictions=results[0], ax=ax)\n",
        "\n",
        "    # Hide axis\n",
        "    ax.axis('off')\n",
        "\n",
        "    # Extract and print the text from the results\n",
        "    extracted_text = \" \".join([result[0] for result in results[0]])\n",
        "    print(f\"Extracted Text using KERAS: {extracted_text}\")\n",
        "\n",
        "    # Show the annotated image\n",
        "    plt.show()\n",
        "\n",
        "# Run the function\n",
        "annotate_keras_ocr(image, keras_ocr_results)"
      ],
      "metadata": {
        "id": "axxSewaXh3gY",
        "colab": {
          "base_uri": "https://localhost:8080/",
          "height": 243
        },
        "outputId": "a0dc0041-22b0-4f2e-b0dc-a9a5b01b8591"
      },
      "execution_count": null,
      "outputs": [
        {
          "output_type": "stream",
          "name": "stdout",
          "text": [
            "Extracted Text using KERAS: jie zhang icse fse ase\n"
          ]
        },
        {
          "output_type": "display_data",
          "data": {
            "text/plain": [
              "<Figure size 1000x1000 with 1 Axes>"
            ],
            "image/png": "[encoded data removed]"
          },
          "metadata": {}
        }
      ]
    },
    {
      "cell_type": "code",
      "source": [
        "# user_choice = choose_method.value - can add this for better code reading if needed"
      ],
      "metadata": {
        "id": "8rqIm6fHpi1q"
      },
      "execution_count": null,
      "outputs": []
    },
    {
      "cell_type": "code",
      "source": [
        "# Step 8: User Choice to Select Method and Viewing Exctracted Text and Annotated Image from that Chosen Method🛠️\n",
        "\n",
        "# Display the radio buttons for OCR choice\n",
        "choose_method = widgets.RadioButtons(\n",
        "    options=['pytesseract', 'easyocr', 'keras_ocr'],\n",
        "    description='Choose OCR:',\n",
        "    disabled=False\n",
        ")\n",
        "display(choose_method)\n",
        "\n",
        "# Create a submit button\n",
        "submit_button = Button(description=\"Submit\")\n",
        "display(submit_button)\n",
        "\n",
        "# Initialize a variable to store the extracted text\n",
        "extracted_text = ''\n",
        "\n",
        "def on_submit_button_clicked(b):\n",
        "    global extracted_text  # Make sure to use the global variable\n",
        "    if choose_method.value == 'pytesseract':\n",
        "        pytesseract_text, _ = ocr_with_pytesseract(image)\n",
        "        extracted_text = pytesseract_text\n",
        "        print(f'Extracted text using PyTesseract: {pytesseract_text}')\n",
        "        pytesseract_annotated = annotate_pytesseract(image)\n",
        "\n",
        "    elif choose_method.value == 'easyocr':\n",
        "        easyocr_text, easyocr_results = ocr_with_easyocr(image)\n",
        "        extracted_text = easyocr_text\n",
        "        print(f'Extracted text using EasyOCR: {easyocr_text}')\n",
        "        annotate_easyocr(image, easyocr_results)\n",
        "\n",
        "    elif choose_method.value == 'keras_ocr':\n",
        "        keras_ocr_text, keras_ocr_results = ocr_with_keras_ocr(image)\n",
        "        extracted_text = keras_ocr_text\n",
        "        print(f'Extracted text using Keras OCR: {keras_ocr_text}')\n",
        "        annotate_keras_ocr(image, keras_ocr_results)\n",
        "\n",
        "    # Now initialize your TextExtractionApp with the latest extracted_text\n",
        "    app = TextExtractionApp(extracted_text)\n",
        "\n",
        "submit_button.on_click(on_submit_button_clicked)"
      ],
      "metadata": {
        "id": "73gpiq2To3lE",
        "colab": {
          "base_uri": "https://localhost:8080/",
          "height": 652,
          "referenced_widgets": [
            "f8afef31892a423088015b4974ee8cd0",
            "d4c788c8b4c743228e3531834883ed07",
            "ac9b1e4ba95f4ac392fcf2d62bb48078",
            "f15115fd10034f1b9e409f76cea2b722",
            "606cd0d7887c40ccb35e05e5225ead9b",
            "a050744498464f8ea45afa568e233930"
          ]
        },
        "outputId": "1dd902d5-3aca-4da1-95f7-19535d070540"
      },
      "execution_count": null,
      "outputs": [
        {
          "output_type": "display_data",
          "data": {
            "text/plain": [
              "RadioButtons(description='Choose OCR:', options=('pytesseract', 'easyocr', 'keras_ocr'), value='pytesseract')"
            ],
            "application/vnd.jupyter.widget-view+json": {
              "version_major": 2,
              "version_minor": 0,
              "model_id": "f8afef31892a423088015b4974ee8cd0"
            }
          },
          "metadata": {}
        },
        {
          "output_type": "display_data",
          "data": {
            "text/plain": [
              "Button(description='Submit', style=ButtonStyle())"
            ],
            "application/vnd.jupyter.widget-view+json": {
              "version_major": 2,
              "version_minor": 0,
              "model_id": "f15115fd10034f1b9e409f76cea2b722"
            }
          },
          "metadata": {}
        },
        {
          "output_type": "stream",
          "name": "stdout",
          "text": [
            "1/1 [==============================] - 0s 27ms/step\n",
            "1/1 [==============================] - 0s 56ms/step\n",
            "Extracted text using Keras OCR: JIE ZHANG ICSE FSE ASE\n",
            "Extracted Text using KERAS: jie zhang icse fse ase\n"
          ]
        },
        {
          "output_type": "display_data",
          "data": {
            "text/plain": [
              "<Figure size 1000x1000 with 1 Axes>"
            ],
            "image/png": "[encoded data removed]"
          },
          "metadata": {}
        },
        {
          "output_type": "error",
          "ename": "NameError",
          "evalue": "ignored",
          "traceback": [
            "\u001b[0;31m---------------------------------------------------------------------------\u001b[0m",
            "\u001b[0;31mNameError\u001b[0m                                 Traceback (most recent call last)",
            "\u001b[0;32m<ipython-input-18-99c672a2e17f>\u001b[0m in \u001b[0;36mon_submit_button_clicked\u001b[0;34m(b)\u001b[0m\n\u001b[1;32m     37\u001b[0m \u001b[0;34m\u001b[0m\u001b[0m\n\u001b[1;32m     38\u001b[0m     \u001b[0;31m# Now initialize your TextExtractionApp with the latest extracted_text\u001b[0m\u001b[0;34m\u001b[0m\u001b[0;34m\u001b[0m\u001b[0m\n\u001b[0;32m---> 39\u001b[0;31m     \u001b[0mapp\u001b[0m \u001b[0;34m=\u001b[0m \u001b[0mTextExtractionApp\u001b[0m\u001b[0;34m(\u001b[0m\u001b[0mextracted_text\u001b[0m\u001b[0;34m)\u001b[0m\u001b[0;34m\u001b[0m\u001b[0;34m\u001b[0m\u001b[0m\n\u001b[0m\u001b[1;32m     40\u001b[0m \u001b[0;34m\u001b[0m\u001b[0m\n\u001b[1;32m     41\u001b[0m \u001b[0msubmit_button\u001b[0m\u001b[0;34m.\u001b[0m\u001b[0mon_click\u001b[0m\u001b[0;34m(\u001b[0m\u001b[0mon_submit_button_clicked\u001b[0m\u001b[0;34m)\u001b[0m\u001b[0;34m\u001b[0m\u001b[0;34m\u001b[0m\u001b[0m\n",
            "\u001b[0;31mNameError\u001b[0m: name 'TextExtractionApp' is not defined"
          ]
        }
      ]
    },
    {
      "cell_type": "code",
      "source": [
        "# Step 9. Check if the Output from the Chosen Method is Satisfactory 🖼️🔍\n",
        "\n",
        "from ipywidgets import widgets, HBox\n",
        "from IPython.display import display\n",
        "\n",
        "class TextExtractionApp:\n",
        "    def __init__(self, initial_text):\n",
        "        self.extracted_text = initial_text\n",
        "        self.initialize_widgets()\n",
        "        self.bind_events()\n",
        "        self.display_initial_widgets()\n",
        "\n",
        "    def get_extracted_text(self):  # Corrected the indentation here\n",
        "        return self.extracted_text\n",
        "\n",
        "    def initialize_widgets(self):\n",
        "        self.satisfaction_check = widgets.RadioButtons(\n",
        "            options=['Yes', 'No'],\n",
        "            description='Satisfied with the extraction?',\n",
        "            disabled=False\n",
        "        )\n",
        "        self.submit_button = widgets.Button(\n",
        "            description='Submit',\n",
        "            disabled=False,\n",
        "            button_style='success',\n",
        "        )\n",
        "        self.text_editor = widgets.Textarea(\n",
        "            value=self.extracted_text,\n",
        "            placeholder='Edit the extracted text here',\n",
        "            disabled=True\n",
        "        )\n",
        "        self.all_done_button = widgets.Button(\n",
        "            description='I am all done',\n",
        "            disabled=True,\n",
        "            button_style='info',\n",
        "        )\n",
        "\n",
        "    def on_submit_clicked(self, b):\n",
        "        if self.satisfaction_check.value == 'No':\n",
        "            self.text_editor.disabled = False\n",
        "            display(self.text_editor)\n",
        "            self.all_done_button.disabled = False\n",
        "            display(self.all_done_button)\n",
        "        else:\n",
        "            self.text_editor.disabled = True\n",
        "            self.all_done_button.disabled = True\n",
        "            self.print_final_text()  # New line to print the final text\n",
        "\n",
        "    def on_all_done_clicked(self, b):\n",
        "        self.extracted_text = self.text_editor.value\n",
        "        self.print_final_text()  # New line to print the final text\n",
        "\n",
        "    def print_final_text(self):\n",
        "        print(f\"Final extracted text: {self.extracted_text}\")\n",
        "\n",
        "\n",
        "    def bind_events(self):\n",
        "        self.submit_button.on_click(self.on_submit_clicked)\n",
        "        self.all_done_button.on_click(self.on_all_done_clicked)\n",
        "\n",
        "    def display_initial_widgets(self):\n",
        "        display(self.satisfaction_check)\n",
        "        display(self.submit_button)\n",
        "        self.text_editor.value = self.extracted_text  # Explicitly set the value\n",
        "        display(self.text_editor)\n",
        "\n",
        "\n",
        "initial_text = extracted_text\n",
        "app = TextExtractionApp(initial_text)\n",
        "\n",
        "# Get the final text\n",
        "final_text = app.get_extracted_text()"
      ],
      "metadata": {
        "id": "hJjgdAGRwpvZ",
        "colab": {
          "base_uri": "https://localhost:8080/",
          "height": 248,
          "referenced_widgets": [
            "b47fbdafc21d4346997698b77274c89d",
            "65fcce78f8be4c3d8f9ab9697d93b996",
            "008dbcfa95c24448b7f74a4d99cc8797",
            "e577bb2e064b4283afd18407bfa1128c",
            "9c7978b2f11b4113a6d0aff025bcf17e",
            "246610aafaea4915b97e0999c85bc10c",
            "1216af9d56f14a25a83d77c79d7016e3",
            "d5ca2000aece46d4af63645ee7dee262",
            "7c93365e9eed40f9bb8b1a82d6de7ded",
            "7d1f76d16b8c4193b671e4ab5c5e5688",
            "9932dccc4532458b8e78ca03d46b7874",
            "ec5c075cede54e7897a4fd5e55105bd0"
          ]
        },
        "outputId": "c8dc9855-da52-4188-ed77-f17c71df791e"
      },
      "execution_count": null,
      "outputs": [
        {
          "output_type": "display_data",
          "data": {
            "text/plain": [
              "RadioButtons(description='Satisfied with the extraction?', options=('Yes', 'No'), value='Yes')"
            ],
            "application/vnd.jupyter.widget-view+json": {
              "version_major": 2,
              "version_minor": 0,
              "model_id": "b47fbdafc21d4346997698b77274c89d"
            }
          },
          "metadata": {}
        },
        {
          "output_type": "display_data",
          "data": {
            "text/plain": [
              "Button(button_style='success', description='Submit', style=ButtonStyle())"
            ],
            "application/vnd.jupyter.widget-view+json": {
              "version_major": 2,
              "version_minor": 0,
              "model_id": "e577bb2e064b4283afd18407bfa1128c"
            }
          },
          "metadata": {}
        },
        {
          "output_type": "display_data",
          "data": {
            "text/plain": [
              "Textarea(value='JIE ZHANG ICSE FSE ASE', disabled=True, placeholder='Edit the extracted text here')"
            ],
            "application/vnd.jupyter.widget-view+json": {
              "version_major": 2,
              "version_minor": 0,
              "model_id": "1216af9d56f14a25a83d77c79d7016e3"
            }
          },
          "metadata": {}
        },
        {
          "output_type": "display_data",
          "data": {
            "text/plain": [
              "Textarea(value='JIE ZHANG ICSE FSE ASE', placeholder='Edit the extracted text here')"
            ],
            "application/vnd.jupyter.widget-view+json": {
              "version_major": 2,
              "version_minor": 0,
              "model_id": "1216af9d56f14a25a83d77c79d7016e3"
            }
          },
          "metadata": {}
        },
        {
          "output_type": "display_data",
          "data": {
            "text/plain": [
              "Button(button_style='info', description='I am all done', style=ButtonStyle())"
            ],
            "application/vnd.jupyter.widget-view+json": {
              "version_major": 2,
              "version_minor": 0,
              "model_id": "7d1f76d16b8c4193b671e4ab5c5e5688"
            }
          },
          "metadata": {}
        },
        {
          "output_type": "stream",
          "name": "stdout",
          "text": [
            "Final extracted text: JIE ZHANG ICSE FSE ASE\n"
          ]
        }
      ]
    },
    {
      "cell_type": "markdown",
      "source": [
        "## Step 2: CONVERTING EXTRACTED TEXT TO MORSE"
      ],
      "metadata": {
        "id": "kI5BgGFcrXLF"
      }
    },
    {
      "cell_type": "code",
      "source": [
        "# Step 1: Installations 📦\n",
        "\n",
        "!pip install gtts"
      ],
      "metadata": {
        "colab": {
          "base_uri": "https://localhost:8080/"
        },
        "id": "jIOnsHk9rkUn",
        "outputId": "28a6f3ce-e801-4ff7-a122-489f219c1b82"
      },
      "execution_count": null,
      "outputs": [
        {
          "output_type": "stream",
          "name": "stdout",
          "text": [
            "Collecting gtts\n",
            "  Downloading gTTS-2.4.0-py3-none-any.whl (29 kB)\n",
            "Requirement already satisfied: requests<3,>=2.27 in /usr/local/lib/python3.10/dist-packages (from gtts) (2.31.0)\n",
            "Requirement already satisfied: click<8.2,>=7.1 in /usr/local/lib/python3.10/dist-packages (from gtts) (8.1.7)\n",
            "Requirement already satisfied: charset-normalizer<4,>=2 in /usr/local/lib/python3.10/dist-packages (from requests<3,>=2.27->gtts) (3.3.1)\n",
            "Requirement already satisfied: idna<4,>=2.5 in /usr/local/lib/python3.10/dist-packages (from requests<3,>=2.27->gtts) (3.4)\n",
            "Requirement already satisfied: urllib3<3,>=1.21.1 in /usr/local/lib/python3.10/dist-packages (from requests<3,>=2.27->gtts) (2.0.7)\n",
            "Requirement already satisfied: certifi>=2017.4.17 in /usr/local/lib/python3.10/dist-packages (from requests<3,>=2.27->gtts) (2023.7.22)\n",
            "Installing collected packages: gtts\n",
            "Successfully installed gtts-2.4.0\n"
          ]
        }
      ]
    },
    {
      "cell_type": "code",
      "source": [
        "!apt-get install -y mpg321"
      ],
      "metadata": {
        "colab": {
          "base_uri": "https://localhost:8080/"
        },
        "id": "cw6-qmqmsnoJ",
        "outputId": "addc3341-f871-458a-a925-c8cf707c1870"
      },
      "execution_count": null,
      "outputs": [
        {
          "output_type": "stream",
          "name": "stdout",
          "text": [
            "Reading package lists... Done\n",
            "Building dependency tree... Done\n",
            "Reading state information... Done\n",
            "The following additional packages will be installed:\n",
            "  libao-common libao4 libaudio-scrobbler-perl libauthen-sasl-perl libclone-perl\n",
            "  libconfig-inifiles-perl libdata-dump-perl libencode-locale-perl libfile-listing-perl\n",
            "  libfont-afm-perl libhtml-form-perl libhtml-format-perl libhtml-parser-perl libhtml-tagset-perl\n",
            "  libhtml-tree-perl libhttp-cookies-perl libhttp-daemon-perl libhttp-date-perl libhttp-message-perl\n",
            "  libhttp-negotiate-perl libid3tag0 libio-html-perl libio-socket-ssl-perl liblwp-mediatypes-perl\n",
            "  liblwp-protocol-https-perl libmad0 libmailtools-perl libnet-http-perl libnet-smtp-ssl-perl\n",
            "  libnet-ssleay-perl libtry-tiny-perl liburi-perl libwww-perl libwww-robotrules-perl netbase\n",
            "  perl-openssl-defaults\n",
            "Suggested packages:\n",
            "  libaudio2 libsndio6.1 libdigest-hmac-perl libgssapi-perl libcrypt-ssleay-perl libsub-name-perl\n",
            "  libbusiness-isbn-perl libauthen-ntlm-perl\n",
            "The following NEW packages will be installed:\n",
            "  libao-common libao4 libaudio-scrobbler-perl libauthen-sasl-perl libclone-perl\n",
            "  libconfig-inifiles-perl libdata-dump-perl libencode-locale-perl libfile-listing-perl\n",
            "  libfont-afm-perl libhtml-form-perl libhtml-format-perl libhtml-parser-perl libhtml-tagset-perl\n",
            "  libhtml-tree-perl libhttp-cookies-perl libhttp-daemon-perl libhttp-date-perl libhttp-message-perl\n",
            "  libhttp-negotiate-perl libid3tag0 libio-html-perl libio-socket-ssl-perl liblwp-mediatypes-perl\n",
            "  liblwp-protocol-https-perl libmad0 libmailtools-perl libnet-http-perl libnet-smtp-ssl-perl\n",
            "  libnet-ssleay-perl libtry-tiny-perl liburi-perl libwww-perl libwww-robotrules-perl mpg321 netbase\n",
            "  perl-openssl-defaults\n",
            "0 upgraded, 37 newly installed, 0 to remove and 19 not upgraded.\n",
            "Need to get 1,804 kB of archives.\n",
            "After this operation, 5,634 kB of additional disk space will be used.\n",
            "Get:1 http://archive.ubuntu.com/ubuntu jammy/main amd64 netbase all 6.3 [12.9 kB]\n",
            "Get:2 http://archive.ubuntu.com/ubuntu jammy/main amd64 libao-common all 1.2.2+20180113-1.1ubuntu3 [6,568 B]\n",
            "Get:3 http://archive.ubuntu.com/ubuntu jammy/main amd64 libao4 amd64 1.2.2+20180113-1.1ubuntu3 [35.2 kB]\n",
            "Get:4 http://archive.ubuntu.com/ubuntu jammy/main amd64 libconfig-inifiles-perl all 3.000003-1 [40.5 kB]\n",
            "Get:5 http://archive.ubuntu.com/ubuntu jammy/main amd64 libencode-locale-perl all 1.05-1.1 [11.8 kB]\n",
            "Get:6 http://archive.ubuntu.com/ubuntu jammy/main amd64 libhttp-date-perl all 6.05-1 [9,920 B]\n",
            "Get:7 http://archive.ubuntu.com/ubuntu jammy/main amd64 libfile-listing-perl all 6.14-1 [11.2 kB]\n",
            "Get:8 http://archive.ubuntu.com/ubuntu jammy/main amd64 libhtml-tagset-perl all 3.20-4 [12.5 kB]\n",
            "Get:9 http://archive.ubuntu.com/ubuntu jammy/main amd64 liburi-perl all 5.10-1 [78.8 kB]\n",
            "Get:10 http://archive.ubuntu.com/ubuntu jammy/main amd64 libhtml-parser-perl amd64 3.76-1build2 [88.4 kB]\n",
            "Get:11 http://archive.ubuntu.com/ubuntu jammy/main amd64 libhtml-tree-perl all 5.07-2 [200 kB]\n",
            "Get:12 http://archive.ubuntu.com/ubuntu jammy/main amd64 libio-html-perl all 1.004-2 [15.4 kB]\n",
            "Get:13 http://archive.ubuntu.com/ubuntu jammy/main amd64 liblwp-mediatypes-perl all 6.04-1 [19.5 kB]\n",
            "Get:14 http://archive.ubuntu.com/ubuntu jammy/main amd64 libhttp-message-perl all 6.36-1 [76.8 kB]\n",
            "Get:15 http://archive.ubuntu.com/ubuntu jammy/main amd64 libhttp-cookies-perl all 6.10-1 [18.4 kB]\n",
            "Get:16 http://archive.ubuntu.com/ubuntu jammy/main amd64 libhttp-negotiate-perl all 6.01-1 [12.5 kB]\n",
            "Get:17 http://archive.ubuntu.com/ubuntu jammy/main amd64 perl-openssl-defaults amd64 5build2 [7,542 B]\n",
            "Get:18 http://archive.ubuntu.com/ubuntu jammy/main amd64 libnet-ssleay-perl amd64 1.92-1build2 [327 kB]\n",
            "Get:19 http://archive.ubuntu.com/ubuntu jammy/main amd64 libio-socket-ssl-perl all 2.074-2 [192 kB]\n",
            "Get:20 http://archive.ubuntu.com/ubuntu jammy/main amd64 libnet-http-perl all 6.22-1 [23.2 kB]\n",
            "Get:21 http://archive.ubuntu.com/ubuntu jammy/main amd64 liblwp-protocol-https-perl all 6.10-1 [10.9 kB]\n",
            "Get:22 http://archive.ubuntu.com/ubuntu jammy/main amd64 libtry-tiny-perl all 0.31-1 [21.8 kB]\n",
            "Get:23 http://archive.ubuntu.com/ubuntu jammy/main amd64 libwww-robotrules-perl all 6.02-1 [12.6 kB]\n",
            "Get:24 http://archive.ubuntu.com/ubuntu jammy/main amd64 libwww-perl all 6.61-1 [141 kB]\n",
            "Get:25 http://archive.ubuntu.com/ubuntu jammy/universe amd64 libaudio-scrobbler-perl all 0.01-2.4 [13.9 kB]\n",
            "Get:26 http://archive.ubuntu.com/ubuntu jammy/main amd64 libclone-perl amd64 0.45-1build3 [11.0 kB]\n",
            "Get:27 http://archive.ubuntu.com/ubuntu jammy/main amd64 libdata-dump-perl all 1.25-1 [25.9 kB]\n",
            "Get:28 http://archive.ubuntu.com/ubuntu jammy/main amd64 libfont-afm-perl all 1.20-3 [13.6 kB]\n",
            "Get:29 http://archive.ubuntu.com/ubuntu jammy/main amd64 libhtml-form-perl all 6.07-1 [22.2 kB]\n",
            "Get:30 http://archive.ubuntu.com/ubuntu jammy/main amd64 libhtml-format-perl all 2.12-1.1 [41.3 kB]\n",
            "Get:31 http://archive.ubuntu.com/ubuntu jammy-updates/main amd64 libhttp-daemon-perl all 6.13-1ubuntu0.1 [22.9 kB]\n",
            "Get:32 http://archive.ubuntu.com/ubuntu jammy/universe amd64 libid3tag0 amd64 0.15.1b-14 [31.3 kB]\n",
            "Get:33 http://archive.ubuntu.com/ubuntu jammy/universe amd64 libmad0 amd64 0.15.1b-10ubuntu1 [63.1 kB]\n",
            "Get:34 http://archive.ubuntu.com/ubuntu jammy/main amd64 libnet-smtp-ssl-perl all 1.04-1 [5,948 B]\n",
            "Get:35 http://archive.ubuntu.com/ubuntu jammy/main amd64 libmailtools-perl all 2.21-1 [80.7 kB]\n",
            "Get:36 http://archive.ubuntu.com/ubuntu jammy/universe amd64 mpg321 amd64 0.3.2-3.1ubuntu1 [43.0 kB]\n",
            "Get:37 http://archive.ubuntu.com/ubuntu jammy/main amd64 libauthen-sasl-perl all 2.1600-1.1 [43.1 kB]\n",
            "Fetched 1,804 kB in 3s (672 kB/s)\n",
            "Extracting templates from packages: 100%\n",
            "Selecting previously unselected package netbase.\n",
            "(Reading database ... 120921 files and directories currently installed.)\n",
            "Preparing to unpack .../00-netbase_6.3_all.deb ...\n",
            "Unpacking netbase (6.3) ...\n",
            "Selecting previously unselected package libao-common.\n",
            "Preparing to unpack .../01-libao-common_1.2.2+20180113-1.1ubuntu3_all.deb ...\n",
            "Unpacking libao-common (1.2.2+20180113-1.1ubuntu3) ...\n",
            "Selecting previously unselected package libao4:amd64.\n",
            "Preparing to unpack .../02-libao4_1.2.2+20180113-1.1ubuntu3_amd64.deb ...\n",
            "Unpacking libao4:amd64 (1.2.2+20180113-1.1ubuntu3) ...\n",
            "Selecting previously unselected package libconfig-inifiles-perl.\n",
            "Preparing to unpack .../03-libconfig-inifiles-perl_3.000003-1_all.deb ...\n",
            "Unpacking libconfig-inifiles-perl (3.000003-1) ...\n",
            "Selecting previously unselected package libencode-locale-perl.\n",
            "Preparing to unpack .../04-libencode-locale-perl_1.05-1.1_all.deb ...\n",
            "Unpacking libencode-locale-perl (1.05-1.1) ...\n",
            "Selecting previously unselected package libhttp-date-perl.\n",
            "Preparing to unpack .../05-libhttp-date-perl_6.05-1_all.deb ...\n",
            "Unpacking libhttp-date-perl (6.05-1) ...\n",
            "Selecting previously unselected package libfile-listing-perl.\n",
            "Preparing to unpack .../06-libfile-listing-perl_6.14-1_all.deb ...\n",
            "Unpacking libfile-listing-perl (6.14-1) ...\n",
            "Selecting previously unselected package libhtml-tagset-perl.\n",
            "Preparing to unpack .../07-libhtml-tagset-perl_3.20-4_all.deb ...\n",
            "Unpacking libhtml-tagset-perl (3.20-4) ...\n",
            "Selecting previously unselected package liburi-perl.\n",
            "Preparing to unpack .../08-liburi-perl_5.10-1_all.deb ...\n",
            "Unpacking liburi-perl (5.10-1) ...\n",
            "Selecting previously unselected package libhtml-parser-perl:amd64.\n",
            "Preparing to unpack .../09-libhtml-parser-perl_3.76-1build2_amd64.deb ...\n",
            "Unpacking libhtml-parser-perl:amd64 (3.76-1build2) ...\n",
            "Selecting previously unselected package libhtml-tree-perl.\n",
            "Preparing to unpack .../10-libhtml-tree-perl_5.07-2_all.deb ...\n",
            "Unpacking libhtml-tree-perl (5.07-2) ...\n",
            "Selecting previously unselected package libio-html-perl.\n",
            "Preparing to unpack .../11-libio-html-perl_1.004-2_all.deb ...\n",
            "Unpacking libio-html-perl (1.004-2) ...\n",
            "Selecting previously unselected package liblwp-mediatypes-perl.\n",
            "Preparing to unpack .../12-liblwp-mediatypes-perl_6.04-1_all.deb ...\n",
            "Unpacking liblwp-mediatypes-perl (6.04-1) ...\n",
            "Selecting previously unselected package libhttp-message-perl.\n",
            "Preparing to unpack .../13-libhttp-message-perl_6.36-1_all.deb ...\n",
            "Unpacking libhttp-message-perl (6.36-1) ...\n",
            "Selecting previously unselected package libhttp-cookies-perl.\n",
            "Preparing to unpack .../14-libhttp-cookies-perl_6.10-1_all.deb ...\n",
            "Unpacking libhttp-cookies-perl (6.10-1) ...\n",
            "Selecting previously unselected package libhttp-negotiate-perl.\n",
            "Preparing to unpack .../15-libhttp-negotiate-perl_6.01-1_all.deb ...\n",
            "Unpacking libhttp-negotiate-perl (6.01-1) ...\n",
            "Selecting previously unselected package perl-openssl-defaults:amd64.\n",
            "Preparing to unpack .../16-perl-openssl-defaults_5build2_amd64.deb ...\n",
            "Unpacking perl-openssl-defaults:amd64 (5build2) ...\n",
            "Selecting previously unselected package libnet-ssleay-perl:amd64.\n",
            "Preparing to unpack .../17-libnet-ssleay-perl_1.92-1build2_amd64.deb ...\n",
            "Unpacking libnet-ssleay-perl:amd64 (1.92-1build2) ...\n",
            "Selecting previously unselected package libio-socket-ssl-perl.\n",
            "Preparing to unpack .../18-libio-socket-ssl-perl_2.074-2_all.deb ...\n",
            "Unpacking libio-socket-ssl-perl (2.074-2) ...\n",
            "Selecting previously unselected package libnet-http-perl.\n",
            "Preparing to unpack .../19-libnet-http-perl_6.22-1_all.deb ...\n",
            "Unpacking libnet-http-perl (6.22-1) ...\n",
            "Selecting previously unselected package liblwp-protocol-https-perl.\n",
            "Preparing to unpack .../20-liblwp-protocol-https-perl_6.10-1_all.deb ...\n",
            "Unpacking liblwp-protocol-https-perl (6.10-1) ...\n",
            "Selecting previously unselected package libtry-tiny-perl.\n",
            "Preparing to unpack .../21-libtry-tiny-perl_0.31-1_all.deb ...\n",
            "Unpacking libtry-tiny-perl (0.31-1) ...\n",
            "Selecting previously unselected package libwww-robotrules-perl.\n",
            "Preparing to unpack .../22-libwww-robotrules-perl_6.02-1_all.deb ...\n",
            "Unpacking libwww-robotrules-perl (6.02-1) ...\n",
            "Selecting previously unselected package libwww-perl.\n",
            "Preparing to unpack .../23-libwww-perl_6.61-1_all.deb ...\n",
            "Unpacking libwww-perl (6.61-1) ...\n",
            "Selecting previously unselected package libaudio-scrobbler-perl.\n",
            "Preparing to unpack .../24-libaudio-scrobbler-perl_0.01-2.4_all.deb ...\n",
            "Unpacking libaudio-scrobbler-perl (0.01-2.4) ...\n",
            "Selecting previously unselected package libclone-perl.\n",
            "Preparing to unpack .../25-libclone-perl_0.45-1build3_amd64.deb ...\n",
            "Unpacking libclone-perl (0.45-1build3) ...\n",
            "Selecting previously unselected package libdata-dump-perl.\n",
            "Preparing to unpack .../26-libdata-dump-perl_1.25-1_all.deb ...\n",
            "Unpacking libdata-dump-perl (1.25-1) ...\n",
            "Selecting previously unselected package libfont-afm-perl.\n",
            "Preparing to unpack .../27-libfont-afm-perl_1.20-3_all.deb ...\n",
            "Unpacking libfont-afm-perl (1.20-3) ...\n",
            "Selecting previously unselected package libhtml-form-perl.\n",
            "Preparing to unpack .../28-libhtml-form-perl_6.07-1_all.deb ...\n",
            "Unpacking libhtml-form-perl (6.07-1) ...\n",
            "Selecting previously unselected package libhtml-format-perl.\n",
            "Preparing to unpack .../29-libhtml-format-perl_2.12-1.1_all.deb ...\n",
            "Unpacking libhtml-format-perl (2.12-1.1) ...\n",
            "Selecting previously unselected package libhttp-daemon-perl.\n",
            "Preparing to unpack .../30-libhttp-daemon-perl_6.13-1ubuntu0.1_all.deb ...\n",
            "Unpacking libhttp-daemon-perl (6.13-1ubuntu0.1) ...\n",
            "Selecting previously unselected package libid3tag0:amd64.\n",
            "Preparing to unpack .../31-libid3tag0_0.15.1b-14_amd64.deb ...\n",
            "Unpacking libid3tag0:amd64 (0.15.1b-14) ...\n",
            "Selecting previously unselected package libmad0:amd64.\n",
            "Preparing to unpack .../32-libmad0_0.15.1b-10ubuntu1_amd64.deb ...\n",
            "Unpacking libmad0:amd64 (0.15.1b-10ubuntu1) ...\n",
            "Selecting previously unselected package libnet-smtp-ssl-perl.\n",
            "Preparing to unpack .../33-libnet-smtp-ssl-perl_1.04-1_all.deb ...\n",
            "Unpacking libnet-smtp-ssl-perl (1.04-1) ...\n",
            "Selecting previously unselected package libmailtools-perl.\n",
            "Preparing to unpack .../34-libmailtools-perl_2.21-1_all.deb ...\n",
            "Unpacking libmailtools-perl (2.21-1) ...\n",
            "Selecting previously unselected package mpg321.\n",
            "Preparing to unpack .../35-mpg321_0.3.2-3.1ubuntu1_amd64.deb ...\n",
            "Unpacking mpg321 (0.3.2-3.1ubuntu1) ...\n",
            "Selecting previously unselected package libauthen-sasl-perl.\n",
            "Preparing to unpack .../36-libauthen-sasl-perl_2.1600-1.1_all.deb ...\n",
            "Unpacking libauthen-sasl-perl (2.1600-1.1) ...\n",
            "Setting up libconfig-inifiles-perl (3.000003-1) ...\n",
            "Setting up libhttp-date-perl (6.05-1) ...\n",
            "Setting up libfile-listing-perl (6.14-1) ...\n",
            "Setting up libfont-afm-perl (1.20-3) ...\n",
            "Setting up libclone-perl (0.45-1build3) ...\n",
            "Setting up libhtml-tagset-perl (3.20-4) ...\n",
            "Setting up libauthen-sasl-perl (2.1600-1.1) ...\n",
            "Setting up liblwp-mediatypes-perl (6.04-1) ...\n",
            "Setting up libtry-tiny-perl (0.31-1) ...\n",
            "Setting up perl-openssl-defaults:amd64 (5build2) ...\n",
            "Setting up libencode-locale-perl (1.05-1.1) ...\n",
            "Setting up libao-common (1.2.2+20180113-1.1ubuntu3) ...\n",
            "Setting up libid3tag0:amd64 (0.15.1b-14) ...\n",
            "Setting up libdata-dump-perl (1.25-1) ...\n",
            "Setting up libio-html-perl (1.004-2) ...\n",
            "Setting up libao4:amd64 (1.2.2+20180113-1.1ubuntu3) ...\n",
            "Setting up libmad0:amd64 (0.15.1b-10ubuntu1) ...\n",
            "Setting up netbase (6.3) ...\n",
            "Setting up liburi-perl (5.10-1) ...\n",
            "Setting up libhttp-message-perl (6.36-1) ...\n",
            "Setting up libnet-ssleay-perl:amd64 (1.92-1build2) ...\n",
            "Setting up libhttp-negotiate-perl (6.01-1) ...\n",
            "Setting up libhttp-cookies-perl (6.10-1) ...\n",
            "Setting up libnet-http-perl (6.22-1) ...\n",
            "Setting up mpg321 (0.3.2-3.1ubuntu1) ...\n",
            "Setting up libwww-robotrules-perl (6.02-1) ...\n",
            "Setting up libhttp-daemon-perl (6.13-1ubuntu0.1) ...\n",
            "Setting up libhtml-parser-perl:amd64 (3.76-1build2) ...\n",
            "Setting up libio-socket-ssl-perl (2.074-2) ...\n",
            "Setting up libhtml-form-perl (6.07-1) ...\n",
            "Setting up libhtml-tree-perl (5.07-2) ...\n",
            "Setting up libhtml-format-perl (2.12-1.1) ...\n",
            "Setting up libnet-smtp-ssl-perl (1.04-1) ...\n",
            "Setting up libmailtools-perl (2.21-1) ...\n",
            "Setting up liblwp-protocol-https-perl (6.10-1) ...\n",
            "Setting up libwww-perl (6.61-1) ...\n",
            "Setting up libaudio-scrobbler-perl (0.01-2.4) ...\n",
            "Processing triggers for libc-bin (2.35-0ubuntu3.1) ...\n",
            "/sbin/ldconfig.real: /usr/local/lib/libtbbmalloc.so.2 is not a symbolic link\n",
            "\n",
            "/sbin/ldconfig.real: /usr/local/lib/libtbbbind_2_5.so.3 is not a symbolic link\n",
            "\n",
            "/sbin/ldconfig.real: /usr/local/lib/libtbb.so.12 is not a symbolic link\n",
            "\n",
            "/sbin/ldconfig.real: /usr/local/lib/libtbbbind_2_0.so.3 is not a symbolic link\n",
            "\n",
            "/sbin/ldconfig.real: /usr/local/lib/libtbbmalloc_proxy.so.2 is not a symbolic link\n",
            "\n",
            "/sbin/ldconfig.real: /usr/local/lib/libtbbbind.so.3 is not a symbolic link\n",
            "\n",
            "Processing triggers for man-db (2.10.2-1) ...\n"
          ]
        }
      ]
    },
    {
      "cell_type": "code",
      "source": [
        "# Step 2: Import Libraries 📚\n",
        "\n",
        "from gtts import gTTS\n",
        "import time"
      ],
      "metadata": {
        "id": "b2wJly3Qql3V"
      },
      "execution_count": null,
      "outputs": []
    },
    {
      "cell_type": "code",
      "source": [
        "# Step 3: Morse Code Dictionary 📖\n",
        "\n",
        "MORSE_CODE_DICT = { 'A':'.-', 'B':'-...',\n",
        "                    'C':'-.-.', 'D':'-..', 'E':'.',\n",
        "                    'F':'..-.', 'G':'--.', 'H':'....',\n",
        "                    'I':'..', 'J':'.---', 'K':'-.-',\n",
        "                    'L':'.-..', 'M':'--', 'N':'-.',\n",
        "                    'O':'---', 'P':'.--.', 'Q':'--.-',\n",
        "                    'R':'.-.', 'S':'...', 'T':'-',\n",
        "                    'U':'..-', 'V':'...-', 'W':'.--',\n",
        "                    'X':'-..-', 'Y':'-.--', 'Z':'--..',\n",
        "                    '1':'.----', '2':'..---', '3':'...--',\n",
        "                    '4':'....-', '5':'.....', '6':'-....',\n",
        "                    '7':'--...', '8':'---..', '9':'----.',\n",
        "                    '0':'-----', ', ':'--..--', '.':'.-.-.-',\n",
        "                    '?':'..--..', '/':'-..-.', '-':'-....-',\n",
        "                    '(':'-.--.', ')':'-.--.-'}"
      ],
      "metadata": {
        "id": "FDtSDm4hqefs"
      },
      "execution_count": null,
      "outputs": []
    },
    {
      "cell_type": "code",
      "source": [
        "# Step 4: Text to Morse Code Function 📝➡️🔠\n",
        "\n",
        "def text_to_morse(text):\n",
        "    morse_code = ''\n",
        "    for letter in text:\n",
        "        if letter != ' ':\n",
        "            morse_code += MORSE_CODE_DICT[letter] + ' '\n",
        "        else:\n",
        "            morse_code += ' '\n",
        "\n",
        "    return morse_code"
      ],
      "metadata": {
        "id": "mB-mn7PKsRdD"
      },
      "execution_count": null,
      "outputs": []
    },
    {
      "cell_type": "code",
      "source": [
        "from IPython.display import Audio"
      ],
      "metadata": {
        "id": "bdQz50HKs5wH"
      },
      "execution_count": null,
      "outputs": []
    },
    {
      "cell_type": "code",
      "source": [
        "# Step 5: Text or Audio Function 🎵📝\n",
        "\n",
        "def output_morse(morse_code, output_type):\n",
        "    if output_type == 'text':\n",
        "        print(morse_code)\n",
        "    elif output_type == 'audio':\n",
        "        tts = gTTS(text=morse_code, lang='en')\n",
        "        tts.save(\"morse_code.mp3\")\n",
        "        display(Audio(\"morse_code.mp3\", autoplay=True))"
      ],
      "metadata": {
        "id": "ZpF0wdxVsS4g"
      },
      "execution_count": null,
      "outputs": []
    },
    {
      "cell_type": "code",
      "source": [
        "# Step 6: Main Loop 🔄\n",
        "\n",
        "while True:\n",
        "    # 1. Ask for text to convert\n",
        "    text_input = extracted_text.upper()\n",
        "\n",
        "    # 2. Ask for output type (text or audio)\n",
        "    output_type = input(\"Do you want the output as text or audio? \").lower()\n",
        "\n",
        "    # 3. Convert and store Morse code\n",
        "    morse_code = text_to_morse(text_input)\n",
        "\n",
        "    # 4. Display the Morse code according to the chosen type\n",
        "    output_morse(morse_code, output_type)\n",
        "\n",
        "    # # 5. Ask if the user has more to convert - add this functionality later to loop back for further inputs if the user wants\n",
        "    # another = input(\"Do you have any more text to convert? (yes/no): \").lower()\n",
        "\n",
        "    # New line to wait for any key press - if needed\n",
        "    input(\"Press any key to continue...\")\n",
        "    break\n",
        "\n",
        "    # # 6. Decide to loop or exit based on user input\n",
        "    # if another != 'yes':\n",
        "    #     print(\"Bye Bye!\")\n",
        "    #     break\n",
        "\n",
        "# while True:\n",
        "#     text_input = input(\"Enter text to convert to Morse Code: \").upper()\n",
        "#     output_type = input(\"Do you want the output as text or audio? \").lower()\n",
        "#     morse_code = text_to_morse(text_input)\n",
        "\n",
        "#     output_morse(morse_code, output_type)\n",
        "\n",
        "#     another = input(\"Do you have any more text to convert? (yes/no): \").lower()\n",
        "\n",
        "#     # # New line to wait for any key press\n",
        "#     # input(\"Press any key to continue...\")\n",
        "\n",
        "#     if another != 'yes':\n",
        "#         print(\"Bye Bye!\")\n",
        "#         break\n",
        "\n"
      ],
      "metadata": {
        "id": "uxk9syTCsZK1",
        "colab": {
          "base_uri": "https://localhost:8080/"
        },
        "outputId": "5dca346d-379e-4c18-e20f-82d6f93e33cf"
      },
      "execution_count": null,
      "outputs": [
        {
          "name": "stdout",
          "output_type": "stream",
          "text": [
            "Do you want the output as text or audio? text\n",
            ".--- .. .  --.. .... .- -. --.  .. -.-. ... .  ..-. ... .  .- ... . \n",
            "Press any key to continue...\n"
          ]
        }
      ]
    }
  ]
}